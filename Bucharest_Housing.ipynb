{
  "nbformat": 4,
  "nbformat_minor": 0,
  "metadata": {
    "colab": {
      "name": "MaciucaGloria_Grupa334_Tema1.ipynb",
      "provenance": [],
      "collapsed_sections": [],
      "toc_visible": true
    },
    "kernelspec": {
      "name": "python3",
      "display_name": "Python 3"
    },
    "accelerator": "GPU"
  },
  "cells": [
    {
      "cell_type": "markdown",
      "metadata": {
        "id": "PvsxhdlbA4PK",
        "colab_type": "text"
      },
      "source": [
        "# **Bucharest Housing**"
      ]
    },
    {
      "cell_type": "markdown",
      "metadata": {
        "id": "Qiz1m2riIbZF",
        "colab_type": "text"
      },
      "source": [
        "**Dataset Description**   \n",
        "  \n",
        "\n",
        "---\n",
        "\n",
        "\n",
        "In the dataset linked below you have over three thousand apartments listed for sale on the locally popular website *imobiliare.ro*. Each entry provides details about different aspects of the house or apartment:\n",
        "1. `Nr Camere` indicates the number of rooms;\n",
        "2. `Suprafata` specifies the total area of the dwelling;\n",
        "3. `Etaj` specifies the floor that the home is located at;\n",
        "4. `Total Etaje` is the total number of floors of the block of flats;\n",
        "5. `Sector` represents the administrative district of Bucharest in which the apartment is located;\n",
        "6. `Pret` represents the listing price of each dwelling;\n",
        "7. `Scor` represents a rating between 1 and 5 of location of the apartment. It was computed in the following manner by the dataset creator:\n",
        "  1. The initial dataset included the address of each flat;\n",
        "  2. An extra dataset was used, which included the average sales price of dwellings in different areas of town;\n",
        "  3. Using all of these monthly averages, a clusterization algorithm grouped them into 5 classes, which were then labelled 1-5;\n",
        "  4. You can think of these scores as an indication of the value of the surrounding area, with 1 being expensive, and 5 being inexpensive.\n",
        "\n",
        "Dataset Source: [kaggle.com/denisadutca](https://www.kaggle.com/denisadutca/bucharest-house-price-dataset/kernels)"
      ]
    },
    {
      "cell_type": "code",
      "metadata": {
        "id": "msP_kOeExB9k",
        "colab_type": "code",
        "colab": {}
      },
      "source": [
        "from google.colab import drive\n",
        "drive.mount('/content/drive')"
      ],
      "execution_count": 0,
      "outputs": []
    },
    {
      "cell_type": "code",
      "metadata": {
        "id": "qN2SEVsMKifd",
        "colab_type": "code",
        "colab": {}
      },
      "source": [
        "!pip install torchviz"
      ],
      "execution_count": 0,
      "outputs": []
    },
    {
      "cell_type": "code",
      "metadata": {
        "id": "z6VtNWMjynXL",
        "colab_type": "code",
        "colab": {}
      },
      "source": [
        "import pandas as pd\n",
        "import matplotlib.pyplot as plt\n",
        "import numpy as np\n",
        "import torch\n",
        "import torch.nn as nn\n",
        "import torch.nn.functional as F\n",
        "import torchviz\n",
        "from torch.utils.data import Dataset, DataLoader\n",
        "from sklearn.preprocessing import StandardScaler\n",
        "from sklearn.metrics import confusion_matrix, classification_report, f1_score\n",
        "import cv2 as cv\n",
        "from google.colab.patches import cv2_imshow\n",
        "\n",
        "%matplotlib inline"
      ],
      "execution_count": 0,
      "outputs": []
    },
    {
      "cell_type": "markdown",
      "metadata": {
        "id": "IJMl_hbuBTej",
        "colab_type": "text"
      },
      "source": [
        "## Loading the data"
      ]
    },
    {
      "cell_type": "markdown",
      "metadata": {
        "id": "OTQzSJSMBEgI",
        "colab_type": "text"
      },
      "source": [
        "Reading the dataset *.csv* in  *pandas.DataFrame* format."
      ]
    },
    {
      "cell_type": "code",
      "metadata": {
        "id": "5SvEcybEynpq",
        "colab_type": "code",
        "outputId": "9426f6ba-3a38-4300-a9c6-f42ea8396e96",
        "colab": {
          "base_uri": "https://localhost:8080/",
          "height": 286
        }
      },
      "source": [
        "dataset_path = '/content/drive/My Drive/BucharestHousing/Bucharest_HousePriceDataset.csv'\n",
        "housing_data = pd.read_csv(dataset_path, sep=',')\n",
        "housing_data.describe()"
      ],
      "execution_count": 85,
      "outputs": [
        {
          "output_type": "execute_result",
          "data": {
            "text/html": [
              "<div>\n",
              "<style scoped>\n",
              "    .dataframe tbody tr th:only-of-type {\n",
              "        vertical-align: middle;\n",
              "    }\n",
              "\n",
              "    .dataframe tbody tr th {\n",
              "        vertical-align: top;\n",
              "    }\n",
              "\n",
              "    .dataframe thead th {\n",
              "        text-align: right;\n",
              "    }\n",
              "</style>\n",
              "<table border=\"1\" class=\"dataframe\">\n",
              "  <thead>\n",
              "    <tr style=\"text-align: right;\">\n",
              "      <th></th>\n",
              "      <th>Nr Camere</th>\n",
              "      <th>Suprafata</th>\n",
              "      <th>Etaj</th>\n",
              "      <th>Total Etaje</th>\n",
              "      <th>Sector</th>\n",
              "      <th>Scor</th>\n",
              "      <th>Pret</th>\n",
              "    </tr>\n",
              "  </thead>\n",
              "  <tbody>\n",
              "    <tr>\n",
              "      <th>count</th>\n",
              "      <td>3529.000000</td>\n",
              "      <td>3529.000000</td>\n",
              "      <td>3529.000000</td>\n",
              "      <td>3529.000000</td>\n",
              "      <td>3529.000000</td>\n",
              "      <td>3529.000000</td>\n",
              "      <td>3529.000000</td>\n",
              "    </tr>\n",
              "    <tr>\n",
              "      <th>mean</th>\n",
              "      <td>2.464154</td>\n",
              "      <td>69.812454</td>\n",
              "      <td>3.089544</td>\n",
              "      <td>6.427317</td>\n",
              "      <td>2.936243</td>\n",
              "      <td>3.098045</td>\n",
              "      <td>97846.330689</td>\n",
              "    </tr>\n",
              "    <tr>\n",
              "      <th>std</th>\n",
              "      <td>0.882514</td>\n",
              "      <td>29.086956</td>\n",
              "      <td>2.733418</td>\n",
              "      <td>3.156608</td>\n",
              "      <td>1.724560</td>\n",
              "      <td>1.442990</td>\n",
              "      <td>62844.200384</td>\n",
              "    </tr>\n",
              "    <tr>\n",
              "      <th>min</th>\n",
              "      <td>1.000000</td>\n",
              "      <td>16.000000</td>\n",
              "      <td>-1.000000</td>\n",
              "      <td>1.000000</td>\n",
              "      <td>1.000000</td>\n",
              "      <td>1.000000</td>\n",
              "      <td>19500.000000</td>\n",
              "    </tr>\n",
              "    <tr>\n",
              "      <th>25%</th>\n",
              "      <td>2.000000</td>\n",
              "      <td>52.000000</td>\n",
              "      <td>1.000000</td>\n",
              "      <td>4.000000</td>\n",
              "      <td>1.000000</td>\n",
              "      <td>2.000000</td>\n",
              "      <td>58400.000000</td>\n",
              "    </tr>\n",
              "    <tr>\n",
              "      <th>50%</th>\n",
              "      <td>2.000000</td>\n",
              "      <td>63.000000</td>\n",
              "      <td>2.000000</td>\n",
              "      <td>6.000000</td>\n",
              "      <td>3.000000</td>\n",
              "      <td>4.000000</td>\n",
              "      <td>78600.000000</td>\n",
              "    </tr>\n",
              "    <tr>\n",
              "      <th>75%</th>\n",
              "      <td>3.000000</td>\n",
              "      <td>81.000000</td>\n",
              "      <td>4.000000</td>\n",
              "      <td>9.000000</td>\n",
              "      <td>4.000000</td>\n",
              "      <td>4.000000</td>\n",
              "      <td>117500.000000</td>\n",
              "    </tr>\n",
              "    <tr>\n",
              "      <th>max</th>\n",
              "      <td>9.000000</td>\n",
              "      <td>350.000000</td>\n",
              "      <td>20.000000</td>\n",
              "      <td>24.000000</td>\n",
              "      <td>6.000000</td>\n",
              "      <td>5.000000</td>\n",
              "      <td>495000.000000</td>\n",
              "    </tr>\n",
              "  </tbody>\n",
              "</table>\n",
              "</div>"
            ],
            "text/plain": [
              "         Nr Camere    Suprafata  ...         Scor           Pret\n",
              "count  3529.000000  3529.000000  ...  3529.000000    3529.000000\n",
              "mean      2.464154    69.812454  ...     3.098045   97846.330689\n",
              "std       0.882514    29.086956  ...     1.442990   62844.200384\n",
              "min       1.000000    16.000000  ...     1.000000   19500.000000\n",
              "25%       2.000000    52.000000  ...     2.000000   58400.000000\n",
              "50%       2.000000    63.000000  ...     4.000000   78600.000000\n",
              "75%       3.000000    81.000000  ...     4.000000  117500.000000\n",
              "max       9.000000   350.000000  ...     5.000000  495000.000000\n",
              "\n",
              "[8 rows x 7 columns]"
            ]
          },
          "metadata": {
            "tags": []
          },
          "execution_count": 85
        }
      ]
    },
    {
      "cell_type": "markdown",
      "metadata": {
        "id": "upNRrhNjibuR",
        "colab_type": "text"
      },
      "source": [
        "To avoid getting any error while calling the dataset columns by name, we'll replace any *whitespace* character with *underscore* character."
      ]
    },
    {
      "cell_type": "code",
      "metadata": {
        "id": "0C-5z7B8gfek",
        "colab_type": "code",
        "outputId": "efb7e4ac-c5eb-4acf-f440-af8218932145",
        "colab": {
          "base_uri": "https://localhost:8080/",
          "height": 286
        }
      },
      "source": [
        "housing_data.rename(columns=lambda x: x.replace(' ', '_'), inplace=True)\n",
        "housing_data.describe()"
      ],
      "execution_count": 86,
      "outputs": [
        {
          "output_type": "execute_result",
          "data": {
            "text/html": [
              "<div>\n",
              "<style scoped>\n",
              "    .dataframe tbody tr th:only-of-type {\n",
              "        vertical-align: middle;\n",
              "    }\n",
              "\n",
              "    .dataframe tbody tr th {\n",
              "        vertical-align: top;\n",
              "    }\n",
              "\n",
              "    .dataframe thead th {\n",
              "        text-align: right;\n",
              "    }\n",
              "</style>\n",
              "<table border=\"1\" class=\"dataframe\">\n",
              "  <thead>\n",
              "    <tr style=\"text-align: right;\">\n",
              "      <th></th>\n",
              "      <th>Nr_Camere</th>\n",
              "      <th>Suprafata</th>\n",
              "      <th>Etaj</th>\n",
              "      <th>Total_Etaje</th>\n",
              "      <th>Sector</th>\n",
              "      <th>Scor</th>\n",
              "      <th>Pret</th>\n",
              "    </tr>\n",
              "  </thead>\n",
              "  <tbody>\n",
              "    <tr>\n",
              "      <th>count</th>\n",
              "      <td>3529.000000</td>\n",
              "      <td>3529.000000</td>\n",
              "      <td>3529.000000</td>\n",
              "      <td>3529.000000</td>\n",
              "      <td>3529.000000</td>\n",
              "      <td>3529.000000</td>\n",
              "      <td>3529.000000</td>\n",
              "    </tr>\n",
              "    <tr>\n",
              "      <th>mean</th>\n",
              "      <td>2.464154</td>\n",
              "      <td>69.812454</td>\n",
              "      <td>3.089544</td>\n",
              "      <td>6.427317</td>\n",
              "      <td>2.936243</td>\n",
              "      <td>3.098045</td>\n",
              "      <td>97846.330689</td>\n",
              "    </tr>\n",
              "    <tr>\n",
              "      <th>std</th>\n",
              "      <td>0.882514</td>\n",
              "      <td>29.086956</td>\n",
              "      <td>2.733418</td>\n",
              "      <td>3.156608</td>\n",
              "      <td>1.724560</td>\n",
              "      <td>1.442990</td>\n",
              "      <td>62844.200384</td>\n",
              "    </tr>\n",
              "    <tr>\n",
              "      <th>min</th>\n",
              "      <td>1.000000</td>\n",
              "      <td>16.000000</td>\n",
              "      <td>-1.000000</td>\n",
              "      <td>1.000000</td>\n",
              "      <td>1.000000</td>\n",
              "      <td>1.000000</td>\n",
              "      <td>19500.000000</td>\n",
              "    </tr>\n",
              "    <tr>\n",
              "      <th>25%</th>\n",
              "      <td>2.000000</td>\n",
              "      <td>52.000000</td>\n",
              "      <td>1.000000</td>\n",
              "      <td>4.000000</td>\n",
              "      <td>1.000000</td>\n",
              "      <td>2.000000</td>\n",
              "      <td>58400.000000</td>\n",
              "    </tr>\n",
              "    <tr>\n",
              "      <th>50%</th>\n",
              "      <td>2.000000</td>\n",
              "      <td>63.000000</td>\n",
              "      <td>2.000000</td>\n",
              "      <td>6.000000</td>\n",
              "      <td>3.000000</td>\n",
              "      <td>4.000000</td>\n",
              "      <td>78600.000000</td>\n",
              "    </tr>\n",
              "    <tr>\n",
              "      <th>75%</th>\n",
              "      <td>3.000000</td>\n",
              "      <td>81.000000</td>\n",
              "      <td>4.000000</td>\n",
              "      <td>9.000000</td>\n",
              "      <td>4.000000</td>\n",
              "      <td>4.000000</td>\n",
              "      <td>117500.000000</td>\n",
              "    </tr>\n",
              "    <tr>\n",
              "      <th>max</th>\n",
              "      <td>9.000000</td>\n",
              "      <td>350.000000</td>\n",
              "      <td>20.000000</td>\n",
              "      <td>24.000000</td>\n",
              "      <td>6.000000</td>\n",
              "      <td>5.000000</td>\n",
              "      <td>495000.000000</td>\n",
              "    </tr>\n",
              "  </tbody>\n",
              "</table>\n",
              "</div>"
            ],
            "text/plain": [
              "         Nr_Camere    Suprafata  ...         Scor           Pret\n",
              "count  3529.000000  3529.000000  ...  3529.000000    3529.000000\n",
              "mean      2.464154    69.812454  ...     3.098045   97846.330689\n",
              "std       0.882514    29.086956  ...     1.442990   62844.200384\n",
              "min       1.000000    16.000000  ...     1.000000   19500.000000\n",
              "25%       2.000000    52.000000  ...     2.000000   58400.000000\n",
              "50%       2.000000    63.000000  ...     4.000000   78600.000000\n",
              "75%       3.000000    81.000000  ...     4.000000  117500.000000\n",
              "max       9.000000   350.000000  ...     5.000000  495000.000000\n",
              "\n",
              "[8 rows x 7 columns]"
            ]
          },
          "metadata": {
            "tags": []
          },
          "execution_count": 86
        }
      ]
    },
    {
      "cell_type": "markdown",
      "metadata": {
        "id": "-e3MbJg9ehed",
        "colab_type": "text"
      },
      "source": [
        "##Data Analysis"
      ]
    },
    {
      "cell_type": "markdown",
      "metadata": {
        "id": "Udz7qSPXw0sf",
        "colab_type": "text"
      },
      "source": [
        "####**Defining the tools used in plotting**\n",
        "\n",
        "---\n",
        "\n",
        "\n",
        "\n",
        "Creating the fonts and colors that will be used in plots.  \n",
        ">Importing *consolas* font for text in plots.  \n",
        ">Defining the color scheme for plots."
      ]
    },
    {
      "cell_type": "code",
      "metadata": {
        "id": "BxkXskB0m3f-",
        "colab_type": "code",
        "colab": {}
      },
      "source": [
        "import matplotlib.font_manager as fm\n",
        "\n",
        "# Download 'consolas' font from url, unzip it and move it\n",
        "# Imported 'consolas' font will be located in 'fonts' directory of the current notebook\n",
        "!wget \"https://fontsnetwork.com/download/consolas\" -O \"/content/consolas.zip\"\n",
        "!unzip \"/content/consolas.zip\" -d \"/content/consolas\"\n",
        "!mv \"/content/consolas/\" \"/usr/share/fonts/truetype/consolas/\"\n",
        "!rm \"/content/consolas.zip\""
      ],
      "execution_count": 0,
      "outputs": []
    },
    {
      "cell_type": "code",
      "metadata": {
        "id": "MIK2TAI7I3MQ",
        "colab_type": "code",
        "colab": {}
      },
      "source": [
        "regular_font_path = '/usr/share/fonts/truetype/consolas/CONSOLA.TTF'\n",
        "bold_font_path = '/usr/share/fonts/truetype/consolas/CONSOLAB.TTF'\n",
        "\n",
        "# Defining fonts properties used for different text types in plots\n",
        "title_font = fm.FontProperties(fname=bold_font_path)\n",
        "title_font.set_size(14)\n",
        "title_font.set_style('normal')\n",
        "\n",
        "labels_font = fm.FontProperties(fname=regular_font_path)\n",
        "labels_font.set_size(11)\n",
        "labels_font.set_style('normal')\n",
        "\n",
        "text_font = fm.FontProperties(fname=regular_font_path)\n",
        "text_font.set_size(11)\n",
        "text_font.set_style('normal')"
      ],
      "execution_count": 0,
      "outputs": []
    },
    {
      "cell_type": "code",
      "metadata": {
        "id": "8UuqOCNAA7uE",
        "colab_type": "code",
        "colab": {}
      },
      "source": [
        "class PlotColorScheme:\n",
        "  def __init__(self):\n",
        "    self.light_2 = (238/255, 69/255, 64/255)\n",
        "    self.light_1 = (199/255, 44/255, 65/255)\n",
        "    self.middle = (128/255, 19/255, 54/255)\n",
        "    self.dark_1 = (81/255, 10/255, 50/255)\n",
        "    self.dark_2 = (45/255, 20/255, 44/255)\n",
        "\n",
        "plot_colors = PlotColorScheme()"
      ],
      "execution_count": 0,
      "outputs": []
    },
    {
      "cell_type": "code",
      "metadata": {
        "id": "UZ-d5636Krsc",
        "colab_type": "code",
        "colab": {}
      },
      "source": [
        "class ImageColorScheme:\n",
        "  def __init__(self):\n",
        "    self.light_2 = (238, 69, 64)\n",
        "    self.light_1 = (199, 44, 65)\n",
        "    self.middle = (128, 19, 54)\n",
        "    self.dark_1 = (81, 10, 50)\n",
        "    self.dark_2 = (45, 20, 44)\n",
        "\n",
        "img_colors = ImageColorScheme()"
      ],
      "execution_count": 0,
      "outputs": []
    },
    {
      "cell_type": "markdown",
      "metadata": {
        "id": "NZCE1IN2fkXX",
        "colab_type": "text"
      },
      "source": [
        "####**Data Distribution of the Score Classes**\n",
        "\n",
        "---\n",
        "\n",
        "Visualizing the number of samples each *Scor* class has."
      ]
    },
    {
      "cell_type": "markdown",
      "metadata": {
        "id": "NVT4FAFZcAbU",
        "colab_type": "text"
      },
      "source": [
        "Some observations about the data distribution over the `Scor` classes:\n",
        "\n",
        "> We notice some imbalance in the distribution of data \n",
        "* There are very few samples for class ***Scor 3*** and way more samples for class ***Scor 4***\n",
        "* The number of samples in the other *Scor* classes is rather balanced"
      ]
    },
    {
      "cell_type": "code",
      "metadata": {
        "id": "RbGb9L1qWu11",
        "colab_type": "code",
        "outputId": "05330523-fa73-4047-e964-16560bcd6524",
        "colab": {
          "base_uri": "https://localhost:8080/",
          "height": 294
        }
      },
      "source": [
        "scores = list(range(1, 6))\n",
        "y_coord = [s/2 for s in scores]\n",
        "dataset_size = len(housing_data.index)\n",
        "perc_distribution = [100 * len(housing_data[housing_data['Scor']==s]) / dataset_size\n",
        "                     for s in scores]\n",
        "\n",
        "fig = plt.figure(figsize=(7, 4))\n",
        "ax = plt.axes()\n",
        "bar_width = .35\n",
        "\n",
        "bar_perc = ax.barh(y_coord, perc_distribution, height=bar_width,\n",
        "                  color=plot_colors.dark_2, edgecolor='black', linewidth=.7)\n",
        "\n",
        "# Adding text representing percentage of data for each class\n",
        "for s in scores:\n",
        "  data_perc = '   {:10.2f}'.format(perc_distribution[s-1]) + '% '\n",
        "  ax.text(perc_distribution[s-1], y_coord[s-1], data_perc,\n",
        "          horizontalalignment ='center', verticalalignment ='center', \n",
        "          fontproperties=text_font)\n",
        "\n",
        "ax.spines[\"top\"].set_visible(False)\n",
        "ax.spines[\"right\"].set_visible(False)\n",
        "ax.spines[\"bottom\"].set_visible(False)\n",
        "\n",
        "ax.set_xlim([0, max(perc_distribution)+10])\n",
        "ax.set_xticks([])\n",
        "ax.set_ylim([y_coord[0]-bar_width, y_coord[-1]+bar_width])\n",
        "ax.set_yticks(y_coord)\n",
        "ax.set_yticklabels(['Scor ' + str(s) for s in scores], fontproperties=labels_font)\n",
        "ax.tick_params(axis='y', color='black', length=0, width=0)\n",
        "\n",
        "ax.set_title('\\n\\n', fontproperties=title_font, \n",
        "             horizontalalignment='center')\n",
        "title = ax.text(0, y_coord[-1]+.7, 'Score classes distribution',\n",
        "                fontproperties=title_font)"
      ],
      "execution_count": 91,
      "outputs": [
        {
          "output_type": "display_data",
          "data": {
            "image/png": "[encoded data removed]",
            "text/plain": [
              "<Figure size 504x288 with 1 Axes>"
            ]
          },
          "metadata": {
            "tags": [],
            "needs_background": "light"
          }
        }
      ]
    },
    {
      "cell_type": "markdown",
      "metadata": {
        "id": "fcXWmUvQrpAG",
        "colab_type": "text"
      },
      "source": [
        "## **A.** ***Scor*** **Classification**"
      ]
    },
    {
      "cell_type": "markdown",
      "metadata": {
        "id": "DpDxNlIBhisj",
        "colab_type": "text"
      },
      "source": [
        "##Processing data"
      ]
    },
    {
      "cell_type": "markdown",
      "metadata": {
        "id": "XLy128sF-WNT",
        "colab_type": "text"
      },
      "source": [
        "### **Checking for missing values**\n",
        "\n",
        "---\n",
        "\n",
        "\n",
        "\n",
        "Fortunately, this dataset does not contain `null` values."
      ]
    },
    {
      "cell_type": "code",
      "metadata": {
        "id": "Rhgt7Fadh452",
        "colab_type": "code",
        "outputId": "01db9ff3-06cc-4d10-b4da-4c69d1e3d957",
        "colab": {
          "base_uri": "https://localhost:8080/",
          "height": 34
        }
      },
      "source": [
        "if housing_data.isnull().values.any():\n",
        "  print('The dataset contains null values.')\n",
        "else:\n",
        "  print('The dataset doesn\\'t contain any null values.')"
      ],
      "execution_count": 92,
      "outputs": [
        {
          "output_type": "stream",
          "text": [
            "The dataset doesn't contain any null values.\n"
          ],
          "name": "stdout"
        }
      ]
    },
    {
      "cell_type": "markdown",
      "metadata": {
        "id": "5JKbaqu7-onC",
        "colab_type": "text"
      },
      "source": [
        "### **Dealing with categorical data**\n",
        "\n",
        "---  \n",
        "\n",
        "This dataset contains four columns with discrete/categorical values :  \n",
        "&nbsp; &nbsp; &nbsp; &nbsp; &nbsp; &nbsp; ***Nr_Camere***&nbsp; &nbsp; |&nbsp; &nbsp; ***Etaj***&nbsp; &nbsp; |&nbsp; &nbsp; ***Total_Etaje***&nbsp; &nbsp; |&nbsp; &nbsp; ***Sector***\n"
      ]
    },
    {
      "cell_type": "code",
      "metadata": {
        "id": "PBD17C85_swG",
        "colab_type": "code",
        "outputId": "e3e63311-9a16-4150-f033-4811e5bcb77c",
        "colab": {
          "base_uri": "https://localhost:8080/",
          "height": 197
        }
      },
      "source": [
        "housing_data.head()"
      ],
      "execution_count": 93,
      "outputs": [
        {
          "output_type": "execute_result",
          "data": {
            "text/html": [
              "<div>\n",
              "<style scoped>\n",
              "    .dataframe tbody tr th:only-of-type {\n",
              "        vertical-align: middle;\n",
              "    }\n",
              "\n",
              "    .dataframe tbody tr th {\n",
              "        vertical-align: top;\n",
              "    }\n",
              "\n",
              "    .dataframe thead th {\n",
              "        text-align: right;\n",
              "    }\n",
              "</style>\n",
              "<table border=\"1\" class=\"dataframe\">\n",
              "  <thead>\n",
              "    <tr style=\"text-align: right;\">\n",
              "      <th></th>\n",
              "      <th>Nr_Camere</th>\n",
              "      <th>Suprafata</th>\n",
              "      <th>Etaj</th>\n",
              "      <th>Total_Etaje</th>\n",
              "      <th>Sector</th>\n",
              "      <th>Scor</th>\n",
              "      <th>Pret</th>\n",
              "    </tr>\n",
              "  </thead>\n",
              "  <tbody>\n",
              "    <tr>\n",
              "      <th>0</th>\n",
              "      <td>4</td>\n",
              "      <td>108.00</td>\n",
              "      <td>2</td>\n",
              "      <td>3</td>\n",
              "      <td>4</td>\n",
              "      <td>5</td>\n",
              "      <td>83000</td>\n",
              "    </tr>\n",
              "    <tr>\n",
              "      <th>1</th>\n",
              "      <td>1</td>\n",
              "      <td>41.00</td>\n",
              "      <td>1</td>\n",
              "      <td>8</td>\n",
              "      <td>1</td>\n",
              "      <td>1</td>\n",
              "      <td>39900</td>\n",
              "    </tr>\n",
              "    <tr>\n",
              "      <th>2</th>\n",
              "      <td>3</td>\n",
              "      <td>63.52</td>\n",
              "      <td>1</td>\n",
              "      <td>3</td>\n",
              "      <td>2</td>\n",
              "      <td>3</td>\n",
              "      <td>84900</td>\n",
              "    </tr>\n",
              "    <tr>\n",
              "      <th>3</th>\n",
              "      <td>1</td>\n",
              "      <td>33.00</td>\n",
              "      <td>3</td>\n",
              "      <td>10</td>\n",
              "      <td>5</td>\n",
              "      <td>1</td>\n",
              "      <td>45500</td>\n",
              "    </tr>\n",
              "    <tr>\n",
              "      <th>4</th>\n",
              "      <td>2</td>\n",
              "      <td>62.00</td>\n",
              "      <td>5</td>\n",
              "      <td>9</td>\n",
              "      <td>5</td>\n",
              "      <td>5</td>\n",
              "      <td>54900</td>\n",
              "    </tr>\n",
              "  </tbody>\n",
              "</table>\n",
              "</div>"
            ],
            "text/plain": [
              "   Nr_Camere  Suprafata  Etaj  Total_Etaje  Sector  Scor   Pret\n",
              "0          4     108.00     2            3       4     5  83000\n",
              "1          1      41.00     1            8       1     1  39900\n",
              "2          3      63.52     1            3       2     3  84900\n",
              "3          1      33.00     3           10       5     1  45500\n",
              "4          2      62.00     5            9       5     5  54900"
            ]
          },
          "metadata": {
            "tags": []
          },
          "execution_count": 93
        }
      ]
    },
    {
      "cell_type": "markdown",
      "metadata": {
        "id": "J7Z8A7RFqtrz",
        "colab_type": "text"
      },
      "source": [
        "Displaying some information about these columns:  "
      ]
    },
    {
      "cell_type": "code",
      "metadata": {
        "colab_type": "code",
        "id": "sJpcSdI0CZh2",
        "outputId": "b011c6bf-ac18-4736-e6ed-ee431e98e076",
        "colab": {
          "base_uri": "https://localhost:8080/",
          "height": 85
        }
      },
      "source": [
        "categ_cols = ['Nr_Camere', 'Etaj', 'Total_Etaje', 'Sector']\n",
        "\n",
        "print_spaces = [len(c) for c in categ_cols]\n",
        "max_spaces = max(print_spaces)\n",
        "for col in range(len(categ_cols)):\n",
        "  print('%15s :  %2d %s  |   %2d .. %2d  |  %s'%\n",
        "        (categ_cols[col],\n",
        "         len(set(housing_data[categ_cols[col]])), 'unique values',\n",
        "         housing_data[categ_cols[col]].min(), housing_data[categ_cols[col]].max(),\n",
        "         str(list(set(housing_data[categ_cols[col]])))))"
      ],
      "execution_count": 94,
      "outputs": [
        {
          "output_type": "stream",
          "text": [
            "      Nr_Camere :   9 unique values  |    1 ..  9  |  [1, 2, 3, 4, 5, 6, 7, 8, 9]\n",
            "           Etaj :  19 unique values  |   -1 .. 20  |  [0, 1, 2, 3, 4, 5, 6, 7, 8, 9, 10, 11, 12, 13, 14, 15, 17, 20, -1]\n",
            "    Total_Etaje :  19 unique values  |    1 .. 24  |  [1, 2, 3, 4, 5, 6, 7, 8, 9, 10, 11, 12, 13, 14, 15, 16, 17, 18, 24]\n",
            "         Sector :   6 unique values  |    1 ..  6  |  [1, 2, 3, 4, 5, 6]\n"
          ],
          "name": "stdout"
        }
      ]
    },
    {
      "cell_type": "markdown",
      "metadata": {
        "id": "sBYE-SzlMRXc",
        "colab_type": "text"
      },
      "source": [
        "#### **One-Hot Encoding**\n",
        "\n",
        "---\n",
        "\n",
        "The dataset is already declared as a *pandas.DataFrame*, so I'll make use of the *`get_dummies()`* method for encoding the categorical columns, specifying ***float64*** as output type.  \n",
        "  \n",
        "\n",
        "Before encoding, we check the type of data in each column and see that there are only ***numerical*** values."
      ]
    },
    {
      "cell_type": "code",
      "metadata": {
        "id": "LCj33z5fSGp4",
        "colab_type": "code",
        "outputId": "4070d14a-2764-4cd5-f782-35d421b475b2",
        "colab": {
          "base_uri": "https://localhost:8080/",
          "height": 153
        }
      },
      "source": [
        "housing_data.dtypes"
      ],
      "execution_count": 95,
      "outputs": [
        {
          "output_type": "execute_result",
          "data": {
            "text/plain": [
              "Nr_Camere        int64\n",
              "Suprafata      float64\n",
              "Etaj             int64\n",
              "Total_Etaje      int64\n",
              "Sector           int64\n",
              "Scor             int64\n",
              "Pret             int64\n",
              "dtype: object"
            ]
          },
          "metadata": {
            "tags": []
          },
          "execution_count": 95
        }
      ]
    },
    {
      "cell_type": "markdown",
      "metadata": {
        "id": "yfg-1o08SXha",
        "colab_type": "text"
      },
      "source": [
        "After encoding, if we check the data again, we notice that the non-categorical columns now contain ***object*** types.  \n",
        "In order to be able to work with this data, we'll convert them to ***float64*** type."
      ]
    },
    {
      "cell_type": "code",
      "metadata": {
        "id": "mWYiQ6tWMZV5",
        "colab_type": "code",
        "outputId": "adea2ec6-0759-459a-f7d8-61dbaf58a0fc",
        "colab": {
          "base_uri": "https://localhost:8080/",
          "height": 85
        }
      },
      "source": [
        "encoded_housing_data = housing_data.copy()\n",
        "encoded_housing_data = pd.get_dummies(encoded_housing_data.astype(str), columns=categ_cols, dtype='float64')\n",
        "encoded_housing_data.dtypes['Suprafata':'Pret']"
      ],
      "execution_count": 96,
      "outputs": [
        {
          "output_type": "execute_result",
          "data": {
            "text/plain": [
              "Suprafata    object\n",
              "Scor         object\n",
              "Pret         object\n",
              "dtype: object"
            ]
          },
          "metadata": {
            "tags": []
          },
          "execution_count": 96
        }
      ]
    },
    {
      "cell_type": "code",
      "metadata": {
        "id": "AdJQ9sFGUOYR",
        "colab_type": "code",
        "outputId": "ce2bbeb6-b2aa-4dd5-f2ae-4b7399e019c0",
        "colab": {
          "base_uri": "https://localhost:8080/",
          "height": 85
        }
      },
      "source": [
        "encoded_housing_data['Suprafata'] = encoded_housing_data.Suprafata.astype('float64')\n",
        "encoded_housing_data['Scor'] = encoded_housing_data.Scor.astype('float64')\n",
        "encoded_housing_data['Pret'] = encoded_housing_data.Pret.astype('float64')\n",
        "encoded_housing_data.dtypes['Suprafata':'Pret']"
      ],
      "execution_count": 97,
      "outputs": [
        {
          "output_type": "execute_result",
          "data": {
            "text/plain": [
              "Suprafata    float64\n",
              "Scor         float64\n",
              "Pret         float64\n",
              "dtype: object"
            ]
          },
          "metadata": {
            "tags": []
          },
          "execution_count": 97
        }
      ]
    },
    {
      "cell_type": "markdown",
      "metadata": {
        "id": "y8CiWVRwbD7e",
        "colab_type": "text"
      },
      "source": [
        "Every categorical column has been replaced by a number of new columns equal to the number of unique values in the initial column.  \n",
        "  \n",
        "  \n",
        "So, for example, for the first entry, the initial value **4** corresponding to the feature *`Nr Camere`*, has been encoded as **0** in columns  \n",
        "*`Nr Camere_1 .. Nr Camere_9`*, except for the column *`Nr Camere_4`*, where we have the value **1**.  \n",
        "For the second entry, the initial value **1** corresponding to the feature *`Nr Camere`*, has been encoded as **0** in columns  \n",
        "*`Nr Camere_2 .. Nr Camere_9`* and **1** in the column *`Nr Camere_1`*."
      ]
    },
    {
      "cell_type": "code",
      "metadata": {
        "id": "_EkLmqoRUI2B",
        "colab_type": "code",
        "outputId": "aacecca9-a826-4b51-a60b-9c5ce1d44864",
        "colab": {
          "base_uri": "https://localhost:8080/",
          "height": 217
        }
      },
      "source": [
        "encoded_housing_data.head()"
      ],
      "execution_count": 98,
      "outputs": [
        {
          "output_type": "execute_result",
          "data": {
            "text/html": [
              "<div>\n",
              "<style scoped>\n",
              "    .dataframe tbody tr th:only-of-type {\n",
              "        vertical-align: middle;\n",
              "    }\n",
              "\n",
              "    .dataframe tbody tr th {\n",
              "        vertical-align: top;\n",
              "    }\n",
              "\n",
              "    .dataframe thead th {\n",
              "        text-align: right;\n",
              "    }\n",
              "</style>\n",
              "<table border=\"1\" class=\"dataframe\">\n",
              "  <thead>\n",
              "    <tr style=\"text-align: right;\">\n",
              "      <th></th>\n",
              "      <th>Suprafata</th>\n",
              "      <th>Scor</th>\n",
              "      <th>Pret</th>\n",
              "      <th>Nr_Camere_1</th>\n",
              "      <th>Nr_Camere_2</th>\n",
              "      <th>Nr_Camere_3</th>\n",
              "      <th>Nr_Camere_4</th>\n",
              "      <th>Nr_Camere_5</th>\n",
              "      <th>Nr_Camere_6</th>\n",
              "      <th>Nr_Camere_7</th>\n",
              "      <th>Nr_Camere_8</th>\n",
              "      <th>Nr_Camere_9</th>\n",
              "      <th>Etaj_-1</th>\n",
              "      <th>Etaj_0</th>\n",
              "      <th>Etaj_1</th>\n",
              "      <th>Etaj_10</th>\n",
              "      <th>Etaj_11</th>\n",
              "      <th>Etaj_12</th>\n",
              "      <th>Etaj_13</th>\n",
              "      <th>Etaj_14</th>\n",
              "      <th>Etaj_15</th>\n",
              "      <th>Etaj_17</th>\n",
              "      <th>Etaj_2</th>\n",
              "      <th>Etaj_20</th>\n",
              "      <th>Etaj_3</th>\n",
              "      <th>Etaj_4</th>\n",
              "      <th>Etaj_5</th>\n",
              "      <th>Etaj_6</th>\n",
              "      <th>Etaj_7</th>\n",
              "      <th>Etaj_8</th>\n",
              "      <th>Etaj_9</th>\n",
              "      <th>Total_Etaje_1</th>\n",
              "      <th>Total_Etaje_10</th>\n",
              "      <th>Total_Etaje_11</th>\n",
              "      <th>Total_Etaje_12</th>\n",
              "      <th>Total_Etaje_13</th>\n",
              "      <th>Total_Etaje_14</th>\n",
              "      <th>Total_Etaje_15</th>\n",
              "      <th>Total_Etaje_16</th>\n",
              "      <th>Total_Etaje_17</th>\n",
              "      <th>Total_Etaje_18</th>\n",
              "      <th>Total_Etaje_2</th>\n",
              "      <th>Total_Etaje_24</th>\n",
              "      <th>Total_Etaje_3</th>\n",
              "      <th>Total_Etaje_4</th>\n",
              "      <th>Total_Etaje_5</th>\n",
              "      <th>Total_Etaje_6</th>\n",
              "      <th>Total_Etaje_7</th>\n",
              "      <th>Total_Etaje_8</th>\n",
              "      <th>Total_Etaje_9</th>\n",
              "      <th>Sector_1</th>\n",
              "      <th>Sector_2</th>\n",
              "      <th>Sector_3</th>\n",
              "      <th>Sector_4</th>\n",
              "      <th>Sector_5</th>\n",
              "      <th>Sector_6</th>\n",
              "    </tr>\n",
              "  </thead>\n",
              "  <tbody>\n",
              "    <tr>\n",
              "      <th>0</th>\n",
              "      <td>108.00</td>\n",
              "      <td>5.0</td>\n",
              "      <td>83000.0</td>\n",
              "      <td>0.0</td>\n",
              "      <td>0.0</td>\n",
              "      <td>0.0</td>\n",
              "      <td>1.0</td>\n",
              "      <td>0.0</td>\n",
              "      <td>0.0</td>\n",
              "      <td>0.0</td>\n",
              "      <td>0.0</td>\n",
              "      <td>0.0</td>\n",
              "      <td>0.0</td>\n",
              "      <td>0.0</td>\n",
              "      <td>0.0</td>\n",
              "      <td>0.0</td>\n",
              "      <td>0.0</td>\n",
              "      <td>0.0</td>\n",
              "      <td>0.0</td>\n",
              "      <td>0.0</td>\n",
              "      <td>0.0</td>\n",
              "      <td>0.0</td>\n",
              "      <td>1.0</td>\n",
              "      <td>0.0</td>\n",
              "      <td>0.0</td>\n",
              "      <td>0.0</td>\n",
              "      <td>0.0</td>\n",
              "      <td>0.0</td>\n",
              "      <td>0.0</td>\n",
              "      <td>0.0</td>\n",
              "      <td>0.0</td>\n",
              "      <td>0.0</td>\n",
              "      <td>0.0</td>\n",
              "      <td>0.0</td>\n",
              "      <td>0.0</td>\n",
              "      <td>0.0</td>\n",
              "      <td>0.0</td>\n",
              "      <td>0.0</td>\n",
              "      <td>0.0</td>\n",
              "      <td>0.0</td>\n",
              "      <td>0.0</td>\n",
              "      <td>0.0</td>\n",
              "      <td>0.0</td>\n",
              "      <td>1.0</td>\n",
              "      <td>0.0</td>\n",
              "      <td>0.0</td>\n",
              "      <td>0.0</td>\n",
              "      <td>0.0</td>\n",
              "      <td>0.0</td>\n",
              "      <td>0.0</td>\n",
              "      <td>0.0</td>\n",
              "      <td>0.0</td>\n",
              "      <td>0.0</td>\n",
              "      <td>1.0</td>\n",
              "      <td>0.0</td>\n",
              "      <td>0.0</td>\n",
              "    </tr>\n",
              "    <tr>\n",
              "      <th>1</th>\n",
              "      <td>41.00</td>\n",
              "      <td>1.0</td>\n",
              "      <td>39900.0</td>\n",
              "      <td>1.0</td>\n",
              "      <td>0.0</td>\n",
              "      <td>0.0</td>\n",
              "      <td>0.0</td>\n",
              "      <td>0.0</td>\n",
              "      <td>0.0</td>\n",
              "      <td>0.0</td>\n",
              "      <td>0.0</td>\n",
              "      <td>0.0</td>\n",
              "      <td>0.0</td>\n",
              "      <td>0.0</td>\n",
              "      <td>1.0</td>\n",
              "      <td>0.0</td>\n",
              "      <td>0.0</td>\n",
              "      <td>0.0</td>\n",
              "      <td>0.0</td>\n",
              "      <td>0.0</td>\n",
              "      <td>0.0</td>\n",
              "      <td>0.0</td>\n",
              "      <td>0.0</td>\n",
              "      <td>0.0</td>\n",
              "      <td>0.0</td>\n",
              "      <td>0.0</td>\n",
              "      <td>0.0</td>\n",
              "      <td>0.0</td>\n",
              "      <td>0.0</td>\n",
              "      <td>0.0</td>\n",
              "      <td>0.0</td>\n",
              "      <td>0.0</td>\n",
              "      <td>0.0</td>\n",
              "      <td>0.0</td>\n",
              "      <td>0.0</td>\n",
              "      <td>0.0</td>\n",
              "      <td>0.0</td>\n",
              "      <td>0.0</td>\n",
              "      <td>0.0</td>\n",
              "      <td>0.0</td>\n",
              "      <td>0.0</td>\n",
              "      <td>0.0</td>\n",
              "      <td>0.0</td>\n",
              "      <td>0.0</td>\n",
              "      <td>0.0</td>\n",
              "      <td>0.0</td>\n",
              "      <td>0.0</td>\n",
              "      <td>0.0</td>\n",
              "      <td>1.0</td>\n",
              "      <td>0.0</td>\n",
              "      <td>1.0</td>\n",
              "      <td>0.0</td>\n",
              "      <td>0.0</td>\n",
              "      <td>0.0</td>\n",
              "      <td>0.0</td>\n",
              "      <td>0.0</td>\n",
              "    </tr>\n",
              "    <tr>\n",
              "      <th>2</th>\n",
              "      <td>63.52</td>\n",
              "      <td>3.0</td>\n",
              "      <td>84900.0</td>\n",
              "      <td>0.0</td>\n",
              "      <td>0.0</td>\n",
              "      <td>1.0</td>\n",
              "      <td>0.0</td>\n",
              "      <td>0.0</td>\n",
              "      <td>0.0</td>\n",
              "      <td>0.0</td>\n",
              "      <td>0.0</td>\n",
              "      <td>0.0</td>\n",
              "      <td>0.0</td>\n",
              "      <td>0.0</td>\n",
              "      <td>1.0</td>\n",
              "      <td>0.0</td>\n",
              "      <td>0.0</td>\n",
              "      <td>0.0</td>\n",
              "      <td>0.0</td>\n",
              "      <td>0.0</td>\n",
              "      <td>0.0</td>\n",
              "      <td>0.0</td>\n",
              "      <td>0.0</td>\n",
              "      <td>0.0</td>\n",
              "      <td>0.0</td>\n",
              "      <td>0.0</td>\n",
              "      <td>0.0</td>\n",
              "      <td>0.0</td>\n",
              "      <td>0.0</td>\n",
              "      <td>0.0</td>\n",
              "      <td>0.0</td>\n",
              "      <td>0.0</td>\n",
              "      <td>0.0</td>\n",
              "      <td>0.0</td>\n",
              "      <td>0.0</td>\n",
              "      <td>0.0</td>\n",
              "      <td>0.0</td>\n",
              "      <td>0.0</td>\n",
              "      <td>0.0</td>\n",
              "      <td>0.0</td>\n",
              "      <td>0.0</td>\n",
              "      <td>0.0</td>\n",
              "      <td>0.0</td>\n",
              "      <td>1.0</td>\n",
              "      <td>0.0</td>\n",
              "      <td>0.0</td>\n",
              "      <td>0.0</td>\n",
              "      <td>0.0</td>\n",
              "      <td>0.0</td>\n",
              "      <td>0.0</td>\n",
              "      <td>0.0</td>\n",
              "      <td>1.0</td>\n",
              "      <td>0.0</td>\n",
              "      <td>0.0</td>\n",
              "      <td>0.0</td>\n",
              "      <td>0.0</td>\n",
              "    </tr>\n",
              "    <tr>\n",
              "      <th>3</th>\n",
              "      <td>33.00</td>\n",
              "      <td>1.0</td>\n",
              "      <td>45500.0</td>\n",
              "      <td>1.0</td>\n",
              "      <td>0.0</td>\n",
              "      <td>0.0</td>\n",
              "      <td>0.0</td>\n",
              "      <td>0.0</td>\n",
              "      <td>0.0</td>\n",
              "      <td>0.0</td>\n",
              "      <td>0.0</td>\n",
              "      <td>0.0</td>\n",
              "      <td>0.0</td>\n",
              "      <td>0.0</td>\n",
              "      <td>0.0</td>\n",
              "      <td>0.0</td>\n",
              "      <td>0.0</td>\n",
              "      <td>0.0</td>\n",
              "      <td>0.0</td>\n",
              "      <td>0.0</td>\n",
              "      <td>0.0</td>\n",
              "      <td>0.0</td>\n",
              "      <td>0.0</td>\n",
              "      <td>0.0</td>\n",
              "      <td>1.0</td>\n",
              "      <td>0.0</td>\n",
              "      <td>0.0</td>\n",
              "      <td>0.0</td>\n",
              "      <td>0.0</td>\n",
              "      <td>0.0</td>\n",
              "      <td>0.0</td>\n",
              "      <td>0.0</td>\n",
              "      <td>1.0</td>\n",
              "      <td>0.0</td>\n",
              "      <td>0.0</td>\n",
              "      <td>0.0</td>\n",
              "      <td>0.0</td>\n",
              "      <td>0.0</td>\n",
              "      <td>0.0</td>\n",
              "      <td>0.0</td>\n",
              "      <td>0.0</td>\n",
              "      <td>0.0</td>\n",
              "      <td>0.0</td>\n",
              "      <td>0.0</td>\n",
              "      <td>0.0</td>\n",
              "      <td>0.0</td>\n",
              "      <td>0.0</td>\n",
              "      <td>0.0</td>\n",
              "      <td>0.0</td>\n",
              "      <td>0.0</td>\n",
              "      <td>0.0</td>\n",
              "      <td>0.0</td>\n",
              "      <td>0.0</td>\n",
              "      <td>0.0</td>\n",
              "      <td>1.0</td>\n",
              "      <td>0.0</td>\n",
              "    </tr>\n",
              "    <tr>\n",
              "      <th>4</th>\n",
              "      <td>62.00</td>\n",
              "      <td>5.0</td>\n",
              "      <td>54900.0</td>\n",
              "      <td>0.0</td>\n",
              "      <td>1.0</td>\n",
              "      <td>0.0</td>\n",
              "      <td>0.0</td>\n",
              "      <td>0.0</td>\n",
              "      <td>0.0</td>\n",
              "      <td>0.0</td>\n",
              "      <td>0.0</td>\n",
              "      <td>0.0</td>\n",
              "      <td>0.0</td>\n",
              "      <td>0.0</td>\n",
              "      <td>0.0</td>\n",
              "      <td>0.0</td>\n",
              "      <td>0.0</td>\n",
              "      <td>0.0</td>\n",
              "      <td>0.0</td>\n",
              "      <td>0.0</td>\n",
              "      <td>0.0</td>\n",
              "      <td>0.0</td>\n",
              "      <td>0.0</td>\n",
              "      <td>0.0</td>\n",
              "      <td>0.0</td>\n",
              "      <td>0.0</td>\n",
              "      <td>1.0</td>\n",
              "      <td>0.0</td>\n",
              "      <td>0.0</td>\n",
              "      <td>0.0</td>\n",
              "      <td>0.0</td>\n",
              "      <td>0.0</td>\n",
              "      <td>0.0</td>\n",
              "      <td>0.0</td>\n",
              "      <td>0.0</td>\n",
              "      <td>0.0</td>\n",
              "      <td>0.0</td>\n",
              "      <td>0.0</td>\n",
              "      <td>0.0</td>\n",
              "      <td>0.0</td>\n",
              "      <td>0.0</td>\n",
              "      <td>0.0</td>\n",
              "      <td>0.0</td>\n",
              "      <td>0.0</td>\n",
              "      <td>0.0</td>\n",
              "      <td>0.0</td>\n",
              "      <td>0.0</td>\n",
              "      <td>0.0</td>\n",
              "      <td>0.0</td>\n",
              "      <td>1.0</td>\n",
              "      <td>0.0</td>\n",
              "      <td>0.0</td>\n",
              "      <td>0.0</td>\n",
              "      <td>0.0</td>\n",
              "      <td>1.0</td>\n",
              "      <td>0.0</td>\n",
              "    </tr>\n",
              "  </tbody>\n",
              "</table>\n",
              "</div>"
            ],
            "text/plain": [
              "   Suprafata  Scor     Pret  ...  Sector_4  Sector_5  Sector_6\n",
              "0     108.00   5.0  83000.0  ...       1.0       0.0       0.0\n",
              "1      41.00   1.0  39900.0  ...       0.0       0.0       0.0\n",
              "2      63.52   3.0  84900.0  ...       0.0       0.0       0.0\n",
              "3      33.00   1.0  45500.0  ...       0.0       1.0       0.0\n",
              "4      62.00   5.0  54900.0  ...       0.0       1.0       0.0\n",
              "\n",
              "[5 rows x 56 columns]"
            ]
          },
          "metadata": {
            "tags": []
          },
          "execution_count": 98
        }
      ]
    },
    {
      "cell_type": "code",
      "metadata": {
        "id": "jytmYAC3eUtk",
        "colab_type": "code",
        "outputId": "2bcfb0f1-e5dd-4720-e492-a148e2c6d717",
        "colab": {
          "base_uri": "https://localhost:8080/",
          "height": 107
        }
      },
      "source": [
        "housing_data.loc[0:1, 'Nr_Camere':'Suprafata']"
      ],
      "execution_count": 99,
      "outputs": [
        {
          "output_type": "execute_result",
          "data": {
            "text/html": [
              "<div>\n",
              "<style scoped>\n",
              "    .dataframe tbody tr th:only-of-type {\n",
              "        vertical-align: middle;\n",
              "    }\n",
              "\n",
              "    .dataframe tbody tr th {\n",
              "        vertical-align: top;\n",
              "    }\n",
              "\n",
              "    .dataframe thead th {\n",
              "        text-align: right;\n",
              "    }\n",
              "</style>\n",
              "<table border=\"1\" class=\"dataframe\">\n",
              "  <thead>\n",
              "    <tr style=\"text-align: right;\">\n",
              "      <th></th>\n",
              "      <th>Nr_Camere</th>\n",
              "      <th>Suprafata</th>\n",
              "    </tr>\n",
              "  </thead>\n",
              "  <tbody>\n",
              "    <tr>\n",
              "      <th>0</th>\n",
              "      <td>4</td>\n",
              "      <td>108.0</td>\n",
              "    </tr>\n",
              "    <tr>\n",
              "      <th>1</th>\n",
              "      <td>1</td>\n",
              "      <td>41.0</td>\n",
              "    </tr>\n",
              "  </tbody>\n",
              "</table>\n",
              "</div>"
            ],
            "text/plain": [
              "   Nr_Camere  Suprafata\n",
              "0          4      108.0\n",
              "1          1       41.0"
            ]
          },
          "metadata": {
            "tags": []
          },
          "execution_count": 99
        }
      ]
    },
    {
      "cell_type": "code",
      "metadata": {
        "id": "VzffXD8TbFKM",
        "colab_type": "code",
        "outputId": "0256028b-0e4e-4bfb-90d6-c78b95b60c18",
        "colab": {
          "base_uri": "https://localhost:8080/",
          "height": 107
        }
      },
      "source": [
        "encoded_housing_data.loc[0:1, 'Nr_Camere_1':'Nr_Camere_9']"
      ],
      "execution_count": 100,
      "outputs": [
        {
          "output_type": "execute_result",
          "data": {
            "text/html": [
              "<div>\n",
              "<style scoped>\n",
              "    .dataframe tbody tr th:only-of-type {\n",
              "        vertical-align: middle;\n",
              "    }\n",
              "\n",
              "    .dataframe tbody tr th {\n",
              "        vertical-align: top;\n",
              "    }\n",
              "\n",
              "    .dataframe thead th {\n",
              "        text-align: right;\n",
              "    }\n",
              "</style>\n",
              "<table border=\"1\" class=\"dataframe\">\n",
              "  <thead>\n",
              "    <tr style=\"text-align: right;\">\n",
              "      <th></th>\n",
              "      <th>Nr_Camere_1</th>\n",
              "      <th>Nr_Camere_2</th>\n",
              "      <th>Nr_Camere_3</th>\n",
              "      <th>Nr_Camere_4</th>\n",
              "      <th>Nr_Camere_5</th>\n",
              "      <th>Nr_Camere_6</th>\n",
              "      <th>Nr_Camere_7</th>\n",
              "      <th>Nr_Camere_8</th>\n",
              "      <th>Nr_Camere_9</th>\n",
              "    </tr>\n",
              "  </thead>\n",
              "  <tbody>\n",
              "    <tr>\n",
              "      <th>0</th>\n",
              "      <td>0.0</td>\n",
              "      <td>0.0</td>\n",
              "      <td>0.0</td>\n",
              "      <td>1.0</td>\n",
              "      <td>0.0</td>\n",
              "      <td>0.0</td>\n",
              "      <td>0.0</td>\n",
              "      <td>0.0</td>\n",
              "      <td>0.0</td>\n",
              "    </tr>\n",
              "    <tr>\n",
              "      <th>1</th>\n",
              "      <td>1.0</td>\n",
              "      <td>0.0</td>\n",
              "      <td>0.0</td>\n",
              "      <td>0.0</td>\n",
              "      <td>0.0</td>\n",
              "      <td>0.0</td>\n",
              "      <td>0.0</td>\n",
              "      <td>0.0</td>\n",
              "      <td>0.0</td>\n",
              "    </tr>\n",
              "  </tbody>\n",
              "</table>\n",
              "</div>"
            ],
            "text/plain": [
              "   Nr_Camere_1  Nr_Camere_2  Nr_Camere_3  ...  Nr_Camere_7  Nr_Camere_8  Nr_Camere_9\n",
              "0          0.0          0.0          0.0  ...          0.0          0.0          0.0\n",
              "1          1.0          0.0          0.0  ...          0.0          0.0          0.0\n",
              "\n",
              "[2 rows x 9 columns]"
            ]
          },
          "metadata": {
            "tags": []
          },
          "execution_count": 100
        }
      ]
    },
    {
      "cell_type": "markdown",
      "metadata": {
        "id": "0xRo0A3eFyiO",
        "colab_type": "text"
      },
      "source": [
        "### **Normalizing the data**\n",
        "\n",
        "---\n",
        "\n",
        "After solving the categorical values problem, we're left with dealing with the values in *`Suprafata`* and *`Pret`* columns.  "
      ]
    },
    {
      "cell_type": "markdown",
      "metadata": {
        "id": "yNlUl_jIz1Se",
        "colab_type": "text"
      },
      "source": [
        "Before performing any normalization operation, we must split the housing dataset into *training*, *testing* and *validation* sets."
      ]
    },
    {
      "cell_type": "markdown",
      "metadata": {
        "id": "_HG-Uq2khUJm",
        "colab_type": "text"
      },
      "source": [
        "#### **Train - Test - Validation Split**\n",
        "\n",
        "---\n",
        "\n",
        "\n",
        "The ***train set*** will contain 70% of the data, the ***test set*** 15% and the ***validation set*** the remaining 15%.\n",
        "\n",
        "The *`Scor`* column represents the data to predict, so it is extracted as *label* data."
      ]
    },
    {
      "cell_type": "code",
      "metadata": {
        "id": "0R0E498RU88T",
        "colab_type": "code",
        "colab": {}
      },
      "source": [
        "train_data = encoded_housing_data.sample(frac=0.7, random_state=34)\n",
        "train_labels = train_data['Scor']\n",
        "\n",
        "test_val_data = encoded_housing_data.drop(train_data.index)\n",
        "\n",
        "val_data = test_val_data.sample(frac=0.5, random_state=34)\n",
        "val_labels = val_data['Scor']\n",
        "\n",
        "test_data = test_val_data.drop(val_data.index)\n",
        "test_labels = test_data['Scor']\n",
        "\n",
        "train_data = train_data.drop(columns=['Scor'])\n",
        "val_data = val_data.drop(columns=['Scor'])\n",
        "test_data = test_data.drop(columns=['Scor'])"
      ],
      "execution_count": 0,
      "outputs": []
    },
    {
      "cell_type": "markdown",
      "metadata": {
        "id": "-Qw2C1pgMh76",
        "colab_type": "text"
      },
      "source": [
        "Some observations about the distribution of the data:\n",
        "\n",
        "*   The *`Suprafata`* and *`Pret`* features, treated independently,  take values in quite a wide range.  \n",
        "*   Set side by side, the range of *`Suprafata`* values is at a significantly different scale than the range of *`Pret`* values.  \n",
        "  \n",
        "  \n",
        "\n",
        "\n",
        "    \n"
      ]
    },
    {
      "cell_type": "code",
      "metadata": {
        "id": "mff99oEdGWm2",
        "colab_type": "code",
        "colab": {}
      },
      "source": [
        "area_feature_raw = train_data['Suprafata'].copy()\n",
        "price_feature_raw = train_data['Pret'].copy()"
      ],
      "execution_count": 0,
      "outputs": []
    },
    {
      "cell_type": "code",
      "metadata": {
        "id": "IWyAro3EKimp",
        "colab_type": "code",
        "outputId": "2898ac0d-00ad-46c3-e4d7-5d6322834ee4",
        "colab": {
          "base_uri": "https://localhost:8080/",
          "height": 167
        }
      },
      "source": [
        "raw_data = pd.DataFrame({'': ['MIN', 'MAX', 'MEAN', 'STD_DEV'], \n",
        "                         'Suprafata': [area_feature_raw.min(), area_feature_raw.max(), area_feature_raw.mean(), area_feature_raw.std()],\n",
        "                         'Pret': [price_feature_raw.min(), price_feature_raw.max(), price_feature_raw.mean(), price_feature_raw.std()]})\n",
        "raw_data"
      ],
      "execution_count": 103,
      "outputs": [
        {
          "output_type": "execute_result",
          "data": {
            "text/html": [
              "<div>\n",
              "<style scoped>\n",
              "    .dataframe tbody tr th:only-of-type {\n",
              "        vertical-align: middle;\n",
              "    }\n",
              "\n",
              "    .dataframe tbody tr th {\n",
              "        vertical-align: top;\n",
              "    }\n",
              "\n",
              "    .dataframe thead th {\n",
              "        text-align: right;\n",
              "    }\n",
              "</style>\n",
              "<table border=\"1\" class=\"dataframe\">\n",
              "  <thead>\n",
              "    <tr style=\"text-align: right;\">\n",
              "      <th></th>\n",
              "      <th></th>\n",
              "      <th>Suprafata</th>\n",
              "      <th>Pret</th>\n",
              "    </tr>\n",
              "  </thead>\n",
              "  <tbody>\n",
              "    <tr>\n",
              "      <th>0</th>\n",
              "      <td>MIN</td>\n",
              "      <td>16.000000</td>\n",
              "      <td>19900.000000</td>\n",
              "    </tr>\n",
              "    <tr>\n",
              "      <th>1</th>\n",
              "      <td>MAX</td>\n",
              "      <td>350.000000</td>\n",
              "      <td>495000.000000</td>\n",
              "    </tr>\n",
              "    <tr>\n",
              "      <th>2</th>\n",
              "      <td>MEAN</td>\n",
              "      <td>70.080692</td>\n",
              "      <td>98294.463968</td>\n",
              "    </tr>\n",
              "    <tr>\n",
              "      <th>3</th>\n",
              "      <td>STD_DEV</td>\n",
              "      <td>29.355722</td>\n",
              "      <td>63164.062543</td>\n",
              "    </tr>\n",
              "  </tbody>\n",
              "</table>\n",
              "</div>"
            ],
            "text/plain": [
              "             Suprafata           Pret\n",
              "0      MIN   16.000000   19900.000000\n",
              "1      MAX  350.000000  495000.000000\n",
              "2     MEAN   70.080692   98294.463968\n",
              "3  STD_DEV   29.355722   63164.062543"
            ]
          },
          "metadata": {
            "tags": []
          },
          "execution_count": 103
        }
      ]
    },
    {
      "cell_type": "code",
      "metadata": {
        "id": "MJWLy2KvIGDu",
        "colab_type": "code",
        "outputId": "231d4a11-16df-46aa-d4be-871deb8376a9",
        "colab": {
          "base_uri": "https://localhost:8080/",
          "height": 356
        }
      },
      "source": [
        "fig, ax = plt.subplots(1, 2, figsize=(25, 5), gridspec_kw={'wspace': .2})\n",
        "\n",
        "comp_area_distr = ax[0].hist(area_feature_raw, bins=100, color=plot_colors.light_2)\n",
        "comp_price_distr = ax[1].hist(price_feature_raw, bins=100, color=plot_colors.dark_2)\n",
        "\n",
        "for i in [0, 1]:\n",
        "  ax[i].spines[\"top\"].set_visible(False)\n",
        "  ax[i].spines[\"right\"].set_visible(False)\n",
        "\n",
        "# Adding titles for the subplots\n",
        "ax[0].set_title('Distribution of data in $\\it{Suprafata}$\\n', \n",
        "                fontproperties=title_font)\n",
        "ax[1].set_title('Distribution of data in $\\it{Pret}$\\n', \n",
        "                fontproperties=title_font)\n",
        "plt.box('on')"
      ],
      "execution_count": 104,
      "outputs": [
        {
          "output_type": "display_data",
          "data": {
            "image/png": "[encoded data removed]",
            "text/plain": [
              "<Figure size 1800x360 with 2 Axes>"
            ]
          },
          "metadata": {
            "tags": [],
            "needs_background": "light"
          }
        }
      ]
    },
    {
      "cell_type": "markdown",
      "metadata": {
        "id": "r4xXGdAahCZ-",
        "colab_type": "text"
      },
      "source": [
        "#### **Zero-mean Centering**\n",
        "\n",
        "---\n",
        "\n",
        "Normalizing data using the ***StandardScaler*** from *sklearn* library.  \n",
        "The scaler is fitted only on training data and then applied on both training and testing data."
      ]
    },
    {
      "cell_type": "code",
      "metadata": {
        "id": "Yjh7J_Q-p2Fk",
        "colab_type": "code",
        "colab": {}
      },
      "source": [
        "scaler = StandardScaler().fit(train_data[['Suprafata', 'Pret']])\n",
        "train_data[['Suprafata', 'Pret']] = scaler.transform(train_data[['Suprafata', 'Pret']])\n",
        "val_data[['Suprafata', 'Pret']] = scaler.transform(val_data[['Suprafata', 'Pret']])\n",
        "test_data[['Suprafata', 'Pret']] = scaler.transform(test_data[['Suprafata', 'Pret']])"
      ],
      "execution_count": 0,
      "outputs": []
    },
    {
      "cell_type": "markdown",
      "metadata": {
        "id": "k8DCD5oNu7vq",
        "colab_type": "text"
      },
      "source": [
        "Some observations after normalization:  \n",
        "\n",
        "* The distributions of data is now zero-mean centered\n",
        "* Each feature now has values in a narrower range\n",
        "* The two features now have values in much more similar ranges (*the distributions can actually be plotted together*)\n",
        "\n"
      ]
    },
    {
      "cell_type": "code",
      "metadata": {
        "id": "qhYC_KHUqRLr",
        "colab_type": "code",
        "outputId": "57d44eeb-e0a3-4cb6-e90f-aa9beb23cb34",
        "colab": {
          "base_uri": "https://localhost:8080/",
          "height": 167
        }
      },
      "source": [
        "area_feature_norm = train_data['Suprafata'].copy()\n",
        "price_feature_norm = train_data['Pret'].copy()\n",
        "\n",
        "normalized_data = pd.DataFrame({'': ['MIN', 'MAX', 'MEAN', 'STD_DEV'], \n",
        "                         'Suprafata': [area_feature_norm.min(), area_feature_norm.max(), area_feature_norm.mean(), area_feature_norm.std()],\n",
        "                         'Pret': [price_feature_norm.min(), price_feature_norm.max(), price_feature_norm.mean(), price_feature_norm.std()]})\n",
        "normalized_data"
      ],
      "execution_count": 106,
      "outputs": [
        {
          "output_type": "execute_result",
          "data": {
            "text/html": [
              "<div>\n",
              "<style scoped>\n",
              "    .dataframe tbody tr th:only-of-type {\n",
              "        vertical-align: middle;\n",
              "    }\n",
              "\n",
              "    .dataframe tbody tr th {\n",
              "        vertical-align: top;\n",
              "    }\n",
              "\n",
              "    .dataframe thead th {\n",
              "        text-align: right;\n",
              "    }\n",
              "</style>\n",
              "<table border=\"1\" class=\"dataframe\">\n",
              "  <thead>\n",
              "    <tr style=\"text-align: right;\">\n",
              "      <th></th>\n",
              "      <th></th>\n",
              "      <th>Suprafata</th>\n",
              "      <th>Pret</th>\n",
              "    </tr>\n",
              "  </thead>\n",
              "  <tbody>\n",
              "    <tr>\n",
              "      <th>0</th>\n",
              "      <td>MIN</td>\n",
              "      <td>-1.842627e+00</td>\n",
              "      <td>-1.241376e+00</td>\n",
              "    </tr>\n",
              "    <tr>\n",
              "      <th>1</th>\n",
              "      <td>MAX</td>\n",
              "      <td>9.537357e+00</td>\n",
              "      <td>6.281829e+00</td>\n",
              "    </tr>\n",
              "    <tr>\n",
              "      <th>2</th>\n",
              "      <td>MEAN</td>\n",
              "      <td>1.943115e-16</td>\n",
              "      <td>1.187534e-16</td>\n",
              "    </tr>\n",
              "    <tr>\n",
              "      <th>3</th>\n",
              "      <td>STD_DEV</td>\n",
              "      <td>1.000202e+00</td>\n",
              "      <td>1.000202e+00</td>\n",
              "    </tr>\n",
              "  </tbody>\n",
              "</table>\n",
              "</div>"
            ],
            "text/plain": [
              "               Suprafata          Pret\n",
              "0      MIN -1.842627e+00 -1.241376e+00\n",
              "1      MAX  9.537357e+00  6.281829e+00\n",
              "2     MEAN  1.943115e-16  1.187534e-16\n",
              "3  STD_DEV  1.000202e+00  1.000202e+00"
            ]
          },
          "metadata": {
            "tags": []
          },
          "execution_count": 106
        }
      ]
    },
    {
      "cell_type": "code",
      "metadata": {
        "id": "Um85le2gqgsp",
        "colab_type": "code",
        "outputId": "f1e8480d-f04e-4af7-858c-34041c3af2d0",
        "colab": {
          "base_uri": "https://localhost:8080/",
          "height": 356
        }
      },
      "source": [
        "fig, ax = plt.subplots(1, 3, figsize=(25, 5), gridspec_kw={'wspace': .25})\n",
        "\n",
        "comp_area_distr = ax[0].hist(area_feature_norm, bins=100, color=plot_colors.light_2, alpha=.75)\n",
        "comp_price_distr = ax[0].hist(price_feature_norm, bins=100, color=plot_colors.dark_2, alpha=.8)\n",
        "\n",
        "area_distr = ax[1].hist(area_feature_norm, bins=100, color=plot_colors.light_2)\n",
        "price_distr = ax[2].hist(price_feature_norm, bins=100, color=plot_colors.dark_2)\n",
        "\n",
        "for i in [0, 1, 2]:\n",
        "  ax[i].spines[\"top\"].set_visible(False)\n",
        "  ax[i].spines[\"right\"].set_visible(False)\n",
        "\n",
        "# Adding titles for the subplots\n",
        "ax[0].set_title('Data distribution comparison\\n', \n",
        "                fontproperties=title_font)\n",
        "ax[0].legend(['Suprafata', 'Pret'], loc='upper right', frameon=False, prop=labels_font)\n",
        "\n",
        "ax[1].set_title('Distribution of normalized data in $\\it{Suprafata}$\\n', \n",
        "                fontproperties=title_font)\n",
        "ax[2].set_title('Distribution of normalized data in $\\it{Pret}$\\n', \n",
        "                fontproperties=title_font)\n",
        "plt.box('on')"
      ],
      "execution_count": 107,
      "outputs": [
        {
          "output_type": "display_data",
          "data": {
            "image/png": "[encoded data removed]",
            "text/plain": [
              "<Figure size 1800x360 with 3 Axes>"
            ]
          },
          "metadata": {
            "tags": [],
            "needs_background": "light"
          }
        }
      ]
    },
    {
      "cell_type": "markdown",
      "metadata": {
        "id": "fhzeTTvDpN4H",
        "colab_type": "text"
      },
      "source": [
        "### **Defining model evaluation representations**\n",
        "\n",
        "---\n",
        "\n",
        "Function for visualizing the confusion matrix\n"
      ]
    },
    {
      "cell_type": "code",
      "metadata": {
        "id": "ZBh9z7rUo4aN",
        "colab_type": "code",
        "colab": {}
      },
      "source": [
        "def draw_confusion_matrix(conf_matrix, cell_dim, tp_color, fn_color):\n",
        "\n",
        "  # Convert RGB color to BGR color to use for opencv image\n",
        "  tp_color = tp_color\n",
        "  fn_color = fn_color[[2, 1, 0]]\n",
        "  text_scale = cv.getFontScaleFromHeight(2, cell_dim//4)\n",
        "\n",
        "  num_labels = conf_matrix.shape[0]\n",
        "  matrix_img = np.zeros((num_labels*cell_dim, num_labels*cell_dim, 3)).astype('uint8')\n",
        "\n",
        "  # Get values range for true-positives\n",
        "  tp_idx = [i for i in range(num_labels)]\n",
        "  tp_values = conf_matrix[tp_idx, tp_idx]\n",
        "  min_tp, max_tp = np.min(tp_values), np.max(tp_values)\n",
        "\n",
        "  # Get values range for false-negatives\n",
        "  fn_rows = [[i, i, i, i] for i in range(num_labels)]\n",
        "  fn_cols = [list(range(i)) + list(range(i+1, num_labels)) for i in range(num_labels)]\n",
        "  fn_values = conf_matrix[fn_rows, fn_cols]\n",
        "  min_fn, max_fn =  np.min(fn_values), np.max(fn_values)\n",
        "\n",
        "  # Create the confusion matrix diagonal with true-positives\n",
        "  for i in range(num_labels):\n",
        "    intensity = (conf_matrix[i, i]-min_tp) / (max_tp-min_tp) * (-.8) + 1\n",
        "    cell_color =  tp_color * intensity\n",
        "    matrix_img[i*cell_dim:(i+1)*cell_dim, i*cell_dim:(i+1)*cell_dim, :] = cell_color.astype('uint8')\n",
        "    text_pos = (int(i*cell_dim + cell_dim/4), int(i*cell_dim + 5*cell_dim/8))\n",
        "    cv.putText(matrix_img, str(tp_values[i]), text_pos, \n",
        "              fontFace=2, fontScale=text_scale, color=(255, 255, 255))\n",
        "\n",
        "  # Create the rest of confusion matrix with false-negatives\n",
        "  for i in range(5):\n",
        "    for j in range(5):\n",
        "      if i != j:\n",
        "        intensity = (conf_matrix[i, j]-min_fn) / (max_fn-min_fn) * (-.8) + 1\n",
        "        cell_color =  fn_color * intensity\n",
        "        matrix_img[i*cell_dim:(i+1)*cell_dim, j*cell_dim:(j+1)*cell_dim, :] = cell_color.astype('uint8')\n",
        "        text_pos = (int(j*cell_dim + cell_dim/4), int(i*cell_dim + 5*cell_dim/8))\n",
        "        cv.putText(matrix_img, str(conf_matrix[i][j]), text_pos, \n",
        "                  fontFace=2, fontScale=text_scale, color=(0, 0, 0))\n",
        "        \n",
        "  return matrix_img"
      ],
      "execution_count": 0,
      "outputs": []
    },
    {
      "cell_type": "markdown",
      "metadata": {
        "id": "tX3iT4ZaKDJg",
        "colab_type": "text"
      },
      "source": [
        "### **1. Classification Problem**"
      ]
    },
    {
      "cell_type": "markdown",
      "metadata": {
        "id": "LI9BUTLqp8Xk",
        "colab_type": "text"
      },
      "source": [
        "#### **Preparing Data for classification**"
      ]
    },
    {
      "cell_type": "markdown",
      "metadata": {
        "id": "61h5RbKENWuP",
        "colab_type": "text"
      },
      "source": [
        "Converting the data from ***pandas.DataFrame*** format to ***pytorch.Tensor***.  \n",
        "  \n",
        "We'll use Cross-Entropy criterion to compute the loss. Hence, the labels tensor must be transformed from range $\\small{1\\ ..\\ 5}$ to range $\\small{0\\ ..\\ 4}$ ."
      ]
    },
    {
      "cell_type": "code",
      "metadata": {
        "id": "VAyBkbrTNj6A",
        "colab_type": "code",
        "colab": {}
      },
      "source": [
        "x_train = torch.from_numpy(train_data.values)\n",
        "y_train = torch.from_numpy(train_labels.values) - 1\n",
        "\n",
        "x_val = torch.from_numpy(val_data.values)\n",
        "y_val = torch.from_numpy(val_labels.values) - 1\n",
        "\n",
        "x_test = torch.from_numpy(test_data.values)\n",
        "y_test = torch.from_numpy(test_labels.values) - 1"
      ],
      "execution_count": 0,
      "outputs": []
    },
    {
      "cell_type": "code",
      "metadata": {
        "id": "97X-K-SznAPN",
        "colab_type": "code",
        "colab": {}
      },
      "source": [
        "class HousingDataset(Dataset):\n",
        "  def __init__(self, x_train: torch.Tensor, y_train: torch.Tensor):\n",
        "    self._x = x_train\n",
        "    self._y = y_train\n",
        "\n",
        "  def __len__(self):\n",
        "    return len(self._x)\n",
        "\n",
        "  def __getitem__(self, idx):\n",
        "    return self._x[idx], self._y[idx]"
      ],
      "execution_count": 0,
      "outputs": []
    },
    {
      "cell_type": "code",
      "metadata": {
        "id": "Z9KPtByOqzAY",
        "colab_type": "code",
        "colab": {}
      },
      "source": [
        "batch_size = 32\n",
        "\n",
        "housing_dataset = HousingDataset(x_train, y_train)\n",
        "housing_loader = DataLoader(housing_dataset, batch_size=batch_size, shuffle=True)"
      ],
      "execution_count": 0,
      "outputs": []
    },
    {
      "cell_type": "markdown",
      "metadata": {
        "id": "Y5Pw_i6gzBB0",
        "colab_type": "text"
      },
      "source": [
        "#### **Defining the model**\n",
        "\n",
        "---\n",
        "\n",
        "\n",
        "\n",
        "*   **Neural network architecture:**  \n",
        "&nbsp; &nbsp; One hidden layer&nbsp; &nbsp; |&nbsp; &nbsp; Linear transformations&nbsp; &nbsp; |&nbsp; &nbsp; ReLU activation  \n",
        "  \n",
        "*   **Loss function:**  \n",
        "&nbsp; &nbsp; Cross-Entropy  \n",
        "  \n",
        "*   **Optimizer:**  \n",
        "&nbsp; &nbsp; SGD&nbsp; &nbsp; \n",
        "  \n",
        "*   **Regularization:**  \n",
        "&nbsp; &nbsp; Early stopping&nbsp; &nbsp; |&nbsp; &nbsp; Weight decay"
      ]
    },
    {
      "cell_type": "code",
      "metadata": {
        "id": "mJ6vaT4UKKmR",
        "colab_type": "code",
        "colab": {}
      },
      "source": [
        "class ClassifierNN1(nn.Module):\n",
        "  def __init__(self, in_size, hid_size, out_size):\n",
        "    super().__init__()\n",
        "    \n",
        "    self._fc1 = nn.Linear(in_size, hid_size)\n",
        "    self._fc2 = nn.Linear(hid_size, out_size)\n",
        "        \n",
        "  def forward(self, x):\n",
        "    x = self._fc1(x)\n",
        "    x = torch.relu(x)\n",
        "    x = self._fc2(x)\n",
        "\n",
        "    return x"
      ],
      "execution_count": 0,
      "outputs": []
    },
    {
      "cell_type": "code",
      "metadata": {
        "id": "OBSIShc2j132",
        "colab_type": "code",
        "outputId": "aff72ee6-ac3e-446f-b865-984f772263ef",
        "colab": {
          "base_uri": "https://localhost:8080/",
          "height": 818
        }
      },
      "source": [
        " model_architecture = ClassifierNN1(55, 20, 5)\n",
        "\n",
        "x = torch.randn(55)\n",
        "torchviz.make_dot(model_architecture(x))"
      ],
      "execution_count": 113,
      "outputs": [
        {
          "output_type": "execute_result",
          "data": {
            "text/plain": [
              "<graphviz.dot.Digraph at 0x7f4b70edb128>"
            ],
            "image/svg+xml": "<?xml version=\"1.0\" encoding=\"UTF-8\" standalone=\"no\"?>\n<!DOCTYPE svg PUBLIC \"-//W3C//DTD SVG 1.1//EN\"\n \"http://www.w3.org/Graphics/SVG/1.1/DTD/svg11.dtd\">\n<!-- Generated by graphviz version 2.40.1 (20161225.0304)\n -->\n<!-- Title: %3 Pages: 1 -->\n<svg width=\"300pt\" height=\"598pt\"\n viewBox=\"0.00 0.00 299.50 598.00\" xmlns=\"http://www.w3.org/2000/svg\" xmlns:xlink=\"http://www.w3.org/1999/xlink\">\n<g id=\"graph0\" class=\"graph\" transform=\"scale(1 1) rotate(0) translate(4 594)\">\n<title>%3</title>\n<polygon fill=\"#ffffff\" stroke=\"transparent\" points=\"-4,4 -4,-594 295.5,-594 295.5,4 -4,4\"/>\n<!-- 139961838441584 -->\n<g id=\"node1\" class=\"node\">\n<title>139961838441584</title>\n<polygon fill=\"#caff70\" stroke=\"#000000\" points=\"259.5,-21 167.5,-21 167.5,0 259.5,0 259.5,-21\"/>\n<text text-anchor=\"middle\" x=\"213.5\" y=\"-7.4\" font-family=\"Times,serif\" font-size=\"12.00\" fill=\"#000000\">AddBackward0</text>\n</g>\n<!-- 139961838441808 -->\n<g id=\"node2\" class=\"node\">\n<title>139961838441808</title>\n<polygon fill=\"#d3d3d3\" stroke=\"#000000\" points=\"219,-85 108,-85 108,-64 219,-64 219,-85\"/>\n<text text-anchor=\"middle\" x=\"163.5\" y=\"-71.4\" font-family=\"Times,serif\" font-size=\"12.00\" fill=\"#000000\">SqueezeBackward3</text>\n</g>\n<!-- 139961838441808&#45;&gt;139961838441584 -->\n<g id=\"edge1\" class=\"edge\">\n<title>139961838441808&#45;&gt;139961838441584</title>\n<path fill=\"none\" stroke=\"#000000\" d=\"M171.7565,-63.9317C179.0947,-54.5388 189.9949,-40.5865 198.8166,-29.2947\"/>\n<polygon fill=\"#000000\" stroke=\"#000000\" points=\"201.6657,-31.3329 205.0641,-21.2979 196.1496,-27.0234 201.6657,-31.3329\"/>\n</g>\n<!-- 139961838441976 -->\n<g id=\"node3\" class=\"node\">\n<title>139961838441976</title>\n<polygon fill=\"#d3d3d3\" stroke=\"#000000\" points=\"206,-149 121,-149 121,-128 206,-128 206,-149\"/>\n<text text-anchor=\"middle\" x=\"163.5\" y=\"-135.4\" font-family=\"Times,serif\" font-size=\"12.00\" fill=\"#000000\">MmBackward</text>\n</g>\n<!-- 139961838441976&#45;&gt;139961838441808 -->\n<g id=\"edge2\" class=\"edge\">\n<title>139961838441976&#45;&gt;139961838441808</title>\n<path fill=\"none\" stroke=\"#000000\" d=\"M163.5,-127.9317C163.5,-119.0913 163.5,-106.2122 163.5,-95.3135\"/>\n<polygon fill=\"#000000\" stroke=\"#000000\" points=\"167.0001,-95.2979 163.5,-85.2979 160.0001,-95.2979 167.0001,-95.2979\"/>\n</g>\n<!-- 139961838442088 -->\n<g id=\"node4\" class=\"node\">\n<title>139961838442088</title>\n<polygon fill=\"#d3d3d3\" stroke=\"#000000\" points=\"167.5,-206 43.5,-206 43.5,-185 167.5,-185 167.5,-206\"/>\n<text text-anchor=\"middle\" x=\"105.5\" y=\"-192.4\" font-family=\"Times,serif\" font-size=\"12.00\" fill=\"#000000\">UnsqueezeBackward0</text>\n</g>\n<!-- 139961838442088&#45;&gt;139961838441976 -->\n<g id=\"edge3\" class=\"edge\">\n<title>139961838442088&#45;&gt;139961838441976</title>\n<path fill=\"none\" stroke=\"#000000\" d=\"M116.4094,-184.7787C124.5915,-176.7376 135.9727,-165.5527 145.4965,-156.1931\"/>\n<polygon fill=\"#000000\" stroke=\"#000000\" points=\"147.9605,-158.6788 152.6396,-149.1732 143.054,-153.6862 147.9605,-158.6788\"/>\n</g>\n<!-- 139961838442256 -->\n<g id=\"node5\" class=\"node\">\n<title>139961838442256</title>\n<polygon fill=\"#d3d3d3\" stroke=\"#000000\" points=\"152.5,-270 58.5,-270 58.5,-249 152.5,-249 152.5,-270\"/>\n<text text-anchor=\"middle\" x=\"105.5\" y=\"-256.4\" font-family=\"Times,serif\" font-size=\"12.00\" fill=\"#000000\">ReluBackward0</text>\n</g>\n<!-- 139961838442256&#45;&gt;139961838442088 -->\n<g id=\"edge4\" class=\"edge\">\n<title>139961838442256&#45;&gt;139961838442088</title>\n<path fill=\"none\" stroke=\"#000000\" d=\"M105.5,-248.9317C105.5,-240.0913 105.5,-227.2122 105.5,-216.3135\"/>\n<polygon fill=\"#000000\" stroke=\"#000000\" points=\"109.0001,-216.2979 105.5,-206.2979 102.0001,-216.2979 109.0001,-216.2979\"/>\n</g>\n<!-- 139961838442368 -->\n<g id=\"node6\" class=\"node\">\n<title>139961838442368</title>\n<polygon fill=\"#d3d3d3\" stroke=\"#000000\" points=\"151.5,-334 59.5,-334 59.5,-313 151.5,-313 151.5,-334\"/>\n<text text-anchor=\"middle\" x=\"105.5\" y=\"-320.4\" font-family=\"Times,serif\" font-size=\"12.00\" fill=\"#000000\">AddBackward0</text>\n</g>\n<!-- 139961838442368&#45;&gt;139961838442256 -->\n<g id=\"edge5\" class=\"edge\">\n<title>139961838442368&#45;&gt;139961838442256</title>\n<path fill=\"none\" stroke=\"#000000\" d=\"M105.5,-312.9317C105.5,-304.0913 105.5,-291.2122 105.5,-280.3135\"/>\n<polygon fill=\"#000000\" stroke=\"#000000\" points=\"109.0001,-280.2979 105.5,-270.2979 102.0001,-280.2979 109.0001,-280.2979\"/>\n</g>\n<!-- 139961838442480 -->\n<g id=\"node7\" class=\"node\">\n<title>139961838442480</title>\n<polygon fill=\"#d3d3d3\" stroke=\"#000000\" points=\"111,-398 0,-398 0,-377 111,-377 111,-398\"/>\n<text text-anchor=\"middle\" x=\"55.5\" y=\"-384.4\" font-family=\"Times,serif\" font-size=\"12.00\" fill=\"#000000\">SqueezeBackward3</text>\n</g>\n<!-- 139961838442480&#45;&gt;139961838442368 -->\n<g id=\"edge6\" class=\"edge\">\n<title>139961838442480&#45;&gt;139961838442368</title>\n<path fill=\"none\" stroke=\"#000000\" d=\"M63.7565,-376.9317C71.0947,-367.5388 81.9949,-353.5865 90.8166,-342.2947\"/>\n<polygon fill=\"#000000\" stroke=\"#000000\" points=\"93.6657,-344.3329 97.0641,-334.2979 88.1496,-340.0234 93.6657,-344.3329\"/>\n</g>\n<!-- 139961838442648 -->\n<g id=\"node8\" class=\"node\">\n<title>139961838442648</title>\n<polygon fill=\"#d3d3d3\" stroke=\"#000000\" points=\"98,-462 13,-462 13,-441 98,-441 98,-462\"/>\n<text text-anchor=\"middle\" x=\"55.5\" y=\"-448.4\" font-family=\"Times,serif\" font-size=\"12.00\" fill=\"#000000\">MmBackward</text>\n</g>\n<!-- 139961838442648&#45;&gt;139961838442480 -->\n<g id=\"edge7\" class=\"edge\">\n<title>139961838442648&#45;&gt;139961838442480</title>\n<path fill=\"none\" stroke=\"#000000\" d=\"M55.5,-440.9317C55.5,-432.0913 55.5,-419.2122 55.5,-408.3135\"/>\n<polygon fill=\"#000000\" stroke=\"#000000\" points=\"59.0001,-408.2979 55.5,-398.2979 52.0001,-408.2979 59.0001,-408.2979\"/>\n</g>\n<!-- 139961838442760 -->\n<g id=\"node9\" class=\"node\">\n<title>139961838442760</title>\n<polygon fill=\"#d3d3d3\" stroke=\"#000000\" points=\"92,-519 19,-519 19,-498 92,-498 92,-519\"/>\n<text text-anchor=\"middle\" x=\"55.5\" y=\"-505.4\" font-family=\"Times,serif\" font-size=\"12.00\" fill=\"#000000\">TBackward</text>\n</g>\n<!-- 139961838442760&#45;&gt;139961838442648 -->\n<g id=\"edge8\" class=\"edge\">\n<title>139961838442760&#45;&gt;139961838442648</title>\n<path fill=\"none\" stroke=\"#000000\" d=\"M55.5,-497.7787C55.5,-490.6134 55.5,-480.9517 55.5,-472.3097\"/>\n<polygon fill=\"#000000\" stroke=\"#000000\" points=\"59.0001,-472.1732 55.5,-462.1732 52.0001,-472.1732 59.0001,-472.1732\"/>\n</g>\n<!-- 139961838442872 -->\n<g id=\"node10\" class=\"node\">\n<title>139961838442872</title>\n<polygon fill=\"#add8e6\" stroke=\"#000000\" points=\"84,-590 27,-590 27,-555 84,-555 84,-590\"/>\n<text text-anchor=\"middle\" x=\"55.5\" y=\"-562.4\" font-family=\"Times,serif\" font-size=\"12.00\" fill=\"#000000\"> (20, 55)</text>\n</g>\n<!-- 139961838442872&#45;&gt;139961838442760 -->\n<g id=\"edge9\" class=\"edge\">\n<title>139961838442872&#45;&gt;139961838442760</title>\n<path fill=\"none\" stroke=\"#000000\" d=\"M55.5,-554.6724C55.5,-546.8405 55.5,-537.5893 55.5,-529.4323\"/>\n<polygon fill=\"#000000\" stroke=\"#000000\" points=\"59.0001,-529.2234 55.5,-519.2234 52.0001,-529.2235 59.0001,-529.2234\"/>\n</g>\n<!-- 139961838442536 -->\n<g id=\"node11\" class=\"node\">\n<title>139961838442536</title>\n<polygon fill=\"#add8e6\" stroke=\"#000000\" points=\"183.5,-405 129.5,-405 129.5,-370 183.5,-370 183.5,-405\"/>\n<text text-anchor=\"middle\" x=\"156.5\" y=\"-377.4\" font-family=\"Times,serif\" font-size=\"12.00\" fill=\"#000000\"> (20)</text>\n</g>\n<!-- 139961838442536&#45;&gt;139961838442368 -->\n<g id=\"edge10\" class=\"edge\">\n<title>139961838442536&#45;&gt;139961838442368</title>\n<path fill=\"none\" stroke=\"#000000\" d=\"M142.2937,-369.6724C135.4853,-361.1286 127.3308,-350.8955 120.4308,-342.2367\"/>\n<polygon fill=\"#000000\" stroke=\"#000000\" points=\"123.0145,-339.8628 114.0452,-334.2234 117.5401,-344.2253 123.0145,-339.8628\"/>\n</g>\n<!-- 139961838442144 -->\n<g id=\"node12\" class=\"node\">\n<title>139961838442144</title>\n<polygon fill=\"#d3d3d3\" stroke=\"#000000\" points=\"259,-206 186,-206 186,-185 259,-185 259,-206\"/>\n<text text-anchor=\"middle\" x=\"222.5\" y=\"-192.4\" font-family=\"Times,serif\" font-size=\"12.00\" fill=\"#000000\">TBackward</text>\n</g>\n<!-- 139961838442144&#45;&gt;139961838441976 -->\n<g id=\"edge11\" class=\"edge\">\n<title>139961838442144&#45;&gt;139961838441976</title>\n<path fill=\"none\" stroke=\"#000000\" d=\"M211.4026,-184.7787C203.0793,-176.7376 191.5019,-165.5527 181.8139,-156.1931\"/>\n<polygon fill=\"#000000\" stroke=\"#000000\" points=\"184.1715,-153.6042 174.5477,-149.1732 179.3078,-158.6385 184.1715,-153.6042\"/>\n</g>\n<!-- 139961838442312 -->\n<g id=\"node13\" class=\"node\">\n<title>139961838442312</title>\n<polygon fill=\"#add8e6\" stroke=\"#000000\" points=\"249.5,-277 195.5,-277 195.5,-242 249.5,-242 249.5,-277\"/>\n<text text-anchor=\"middle\" x=\"222.5\" y=\"-249.4\" font-family=\"Times,serif\" font-size=\"12.00\" fill=\"#000000\"> (5, 20)</text>\n</g>\n<!-- 139961838442312&#45;&gt;139961838442144 -->\n<g id=\"edge12\" class=\"edge\">\n<title>139961838442312&#45;&gt;139961838442144</title>\n<path fill=\"none\" stroke=\"#000000\" d=\"M222.5,-241.6724C222.5,-233.8405 222.5,-224.5893 222.5,-216.4323\"/>\n<polygon fill=\"#000000\" stroke=\"#000000\" points=\"226.0001,-216.2234 222.5,-206.2234 219.0001,-216.2235 226.0001,-216.2234\"/>\n</g>\n<!-- 139961838441640 -->\n<g id=\"node14\" class=\"node\">\n<title>139961838441640</title>\n<polygon fill=\"#add8e6\" stroke=\"#000000\" points=\"291.5,-92 237.5,-92 237.5,-57 291.5,-57 291.5,-92\"/>\n<text text-anchor=\"middle\" x=\"264.5\" y=\"-64.4\" font-family=\"Times,serif\" font-size=\"12.00\" fill=\"#000000\"> (5)</text>\n</g>\n<!-- 139961838441640&#45;&gt;139961838441584 -->\n<g id=\"edge13\" class=\"edge\">\n<title>139961838441640&#45;&gt;139961838441584</title>\n<path fill=\"none\" stroke=\"#000000\" d=\"M250.2937,-56.6724C243.4853,-48.1286 235.3308,-37.8955 228.4308,-29.2367\"/>\n<polygon fill=\"#000000\" stroke=\"#000000\" points=\"231.0145,-26.8628 222.0452,-21.2234 225.5401,-31.2253 231.0145,-26.8628\"/>\n</g>\n</g>\n</svg>\n"
          },
          "metadata": {
            "tags": []
          },
          "execution_count": 113
        }
      ]
    },
    {
      "cell_type": "code",
      "metadata": {
        "id": "_di52kIYhkHP",
        "colab_type": "code",
        "colab": {}
      },
      "source": [
        "input_size = 55       # Number of features in the dataset\n",
        "hidden_size = 25\n",
        "output_size = 5       # Number of target classes\n",
        "\n",
        "model1 = ClassifierNN1(input_size, hidden_size, output_size)"
      ],
      "execution_count": 0,
      "outputs": []
    },
    {
      "cell_type": "markdown",
      "metadata": {
        "id": "vevqgDSuw1oy",
        "colab_type": "text"
      },
      "source": [
        "**Early stopping condition**"
      ]
    },
    {
      "cell_type": "markdown",
      "metadata": {
        "id": "qM67RDEf78zW",
        "colab_type": "text"
      },
      "source": [
        "At the end of every epoch, the model is evaluated on a validation set and the current loss value obtained is compared to the previous smallest loss value to decide when to stop training in order to avoid overfitting.  \n",
        "  \n",
        "The ***generalization loss*** at current time(epoch) ***t*** is defined as the relative increase of the validation loss considering the lowest validation loss so far:  \n",
        "\n",
        "$\n",
        "\\hspace{15 mm}\n",
        "GL_t = \\frac{L_{val}(t)}{L_{min}(t)}-1\\ ,\\ \\ \\ \\ \\ \\ \\ \\ \\ \n",
        "\\left.\n",
        "\\begin{array}{ll} \n",
        "\\small{L_{val}(t) - validation\\ loss\\ measured\\ at\\ time\\ \\bf{t}}\\\\\n",
        "\\small{L_{val}(t) - smallest\\ loss\\ value\\ measured\\ so\\ far}\\\\ \n",
        "\\end{array}\n",
        "\\right.\n",
        "$   \n",
        "\n",
        "$\\color{white}{.}$  \n",
        "\n",
        "---\n",
        "\n",
        "$\\color{white}{.}$\n",
        "  \n",
        "The validation loss is fluctuating and is possible to have multiple local minima.  \n",
        "In order to avoid stopping the training too early and allow the validation loss to get back on a descending slope, we'll add a ***patience*** factor.  \n",
        "    \n",
        "This means that after finding an increase in the validation loss, the model is trained for some more epochs and only then, if the validation loss did not decreased, the training is stopped."
      ]
    },
    {
      "cell_type": "code",
      "metadata": {
        "id": "YHZaCodN-xQR",
        "colab_type": "code",
        "colab": {}
      },
      "source": [
        "patience = 20\n",
        "\n",
        "# Every time a new minima is found, we save the time, the loss value and the \n",
        "# model parameters\n",
        "checkpoint_epoch = 0\n",
        "checkpoint_losses = []\n",
        "checkpoint_path = '/content/checkpointC.pt'\n",
        "\n",
        "es_epochs = []\n",
        "es_losses = []\n",
        "es_models = []\n",
        "\n",
        "best_loss = np.inf\n",
        "train_loss = []\n",
        "validation_loss = []\n",
        "verbose_step = 50"
      ],
      "execution_count": 0,
      "outputs": []
    },
    {
      "cell_type": "code",
      "metadata": {
        "id": "1HMYVRywAPiM",
        "colab_type": "code",
        "colab": {}
      },
      "source": [
        "# After some trials, I found that a learning rate = 0.005 gives the best results\n",
        "# The regularization parameter is set to 0.001\n",
        "learning_rate = 0.005\n",
        "weight_reg = 0.001\n",
        "optimizer = torch.optim.SGD(model1.parameters(), lr=learning_rate,\n",
        "                            weight_decay=weight_reg)\n",
        "\n",
        "criterion = nn.CrossEntropyLoss()"
      ],
      "execution_count": 0,
      "outputs": []
    },
    {
      "cell_type": "code",
      "metadata": {
        "colab_type": "code",
        "id": "JnKOyOzeGj-y",
        "outputId": "67cca188-a917-4b4c-c9b2-47327074ba7b",
        "colab": {
          "base_uri": "https://localhost:8080/",
          "height": 563
        }
      },
      "source": [
        "# We take a counter 'wait' that will monitor the number of epochs trained after\n",
        "# an increase in the validation loss was found\n",
        "still_training = True\n",
        "wait = 0\n",
        "\n",
        "while still_training:\n",
        "\n",
        "  iter_loss = []\n",
        "  for x, y_true in housing_loader:\n",
        "    x = x.float()\n",
        "    y_true = y_true.long()\n",
        "\n",
        "    y_pred = model1(x)\n",
        "    batch_loss = criterion(y_pred, y_true)\n",
        "\n",
        "    optimizer.zero_grad()\n",
        "    batch_loss.backward()\n",
        "    optimizer.step()\n",
        "\n",
        "    iter_loss.append(batch_loss.detach().numpy())\n",
        "\n",
        "  # At the end of each epoch, we compute the validation loss without \n",
        "  # storing it's gradients\n",
        "  model1.eval()\n",
        "  with torch.no_grad():\n",
        "    val_pred = model1(x_val.float())\n",
        "    val_loss = criterion(val_pred, y_val.long())\n",
        "\n",
        "  # We compute the generalization loss an compare it to the admissible bound\n",
        "  es_measure = np.mean(val_loss.detach().numpy()) / best_loss - 1\n",
        "  if es_measure <= .0002:\n",
        "    if wait:      \n",
        "      checkpoint_epoch += wait - 1\n",
        "      wait = 0\n",
        "\n",
        "    # The minimum loss found replaces the old one and the current model is saved\n",
        "    best_loss = np.mean(val_loss.detach().numpy())\n",
        "    train_loss = train_loss[:checkpoint_epoch]\n",
        "    validation_loss = validation_loss[:checkpoint_epoch]\n",
        "\n",
        "    checkpoint_epoch += 1\n",
        "    checkpoint_losses = [np.mean(iter_loss), np.mean(val_loss.detach().numpy())]\n",
        "    torch.save(model1.state_dict(), checkpoint_path)\n",
        "  else:    \n",
        "    # The loss increased\n",
        "\n",
        "    if wait == patience:      \n",
        "      # If we reached the maximum number of extra epochs, the training is stopped\n",
        "      # The best model is restored\n",
        "      still_training = False\n",
        "      model1.load_state_dict(torch.load(checkpoint_path))\n",
        "      es_epochs.append(checkpoint_epoch)\n",
        "      es_losses.append(checkpoint_losses)\n",
        "      es_models.append(model1)\n",
        "\n",
        "      train_loss = train_loss[:checkpoint_epoch]\n",
        "      validation_loss = validation_loss[:checkpoint_epoch]\n",
        "\n",
        "      print('Validation loss not improved for %d epochs since last checkpoint : %.6f ---> %.6f' %\n",
        "            (patience, best_loss, np.mean(val_loss.detach().numpy())))\n",
        "      print('Restoring last saved model : epoch %4d' % checkpoint_epoch)\n",
        "    else:    \n",
        "      # If we did not reached the maximum number of extra epochs, the training \n",
        "      # continues without saving the model\n",
        "      wait += 1\n",
        "  \n",
        "  train_loss.append(np.mean(iter_loss))\n",
        "  validation_loss.append(np.mean(val_loss.detach().numpy()))\n",
        "\n",
        "  # Displaying the model's state every 50 epochs\n",
        "  if (checkpoint_epoch+1+wait) % verbose_step == 0:\n",
        "      print('EPOCH %4d :' % (checkpoint_epoch+1+wait))\n",
        "      print('   train_loss = %.6f' % train_loss[-1])\n",
        "      print('   validation_loss = %.6f' % validation_loss[-1])"
      ],
      "execution_count": 117,
      "outputs": [
        {
          "output_type": "stream",
          "text": [
            "EPOCH   50 :\n",
            "   train_loss = 0.866549\n",
            "   validation_loss = 0.856931\n",
            "EPOCH  100 :\n",
            "   train_loss = 0.659271\n",
            "   validation_loss = 0.670816\n",
            "EPOCH  150 :\n",
            "   train_loss = 0.602800\n",
            "   validation_loss = 0.611254\n",
            "EPOCH  200 :\n",
            "   train_loss = 0.564256\n",
            "   validation_loss = 0.582806\n",
            "EPOCH  250 :\n",
            "   train_loss = 0.545978\n",
            "   validation_loss = 0.567969\n",
            "EPOCH  300 :\n",
            "   train_loss = 0.529453\n",
            "   validation_loss = 0.558841\n",
            "EPOCH  300 :\n",
            "   train_loss = 0.536587\n",
            "   validation_loss = 0.558610\n",
            "EPOCH  350 :\n",
            "   train_loss = 0.516861\n",
            "   validation_loss = 0.552926\n",
            "EPOCH  400 :\n",
            "   train_loss = 0.507899\n",
            "   validation_loss = 0.548756\n",
            "EPOCH  400 :\n",
            "   train_loss = 0.509398\n",
            "   validation_loss = 0.547980\n",
            "Validation loss not improved for 20 epochs since last checkpoint : 0.544216 ---> 0.544691\n",
            "Restoring last saved model : epoch  428\n"
          ],
          "name": "stdout"
        }
      ]
    },
    {
      "cell_type": "markdown",
      "metadata": {
        "id": "MeGOarz-ptZK",
        "colab_type": "text"
      },
      "source": [
        "#### **Evaluation of the model**"
      ]
    },
    {
      "cell_type": "markdown",
      "metadata": {
        "id": "_WPvKXXqsI4h",
        "colab_type": "text"
      },
      "source": [
        "**Stopping time statistics**"
      ]
    },
    {
      "cell_type": "code",
      "metadata": {
        "id": "a2bdHgwqwAy4",
        "colab_type": "code",
        "outputId": "e7aa48ad-0066-4022-c850-8798da7ec42e",
        "colab": {
          "base_uri": "https://localhost:8080/",
          "height": 68
        }
      },
      "source": [
        "print('TRAINING STOPPED AFTER %4d EPOCHS' % es_epochs[0])\n",
        "print('%18s : %.5f' % ('Train Loss', es_losses[0][0]))\n",
        "print('%18s : %.5f' % ('Validation Loss', es_losses[0][1]))"
      ],
      "execution_count": 118,
      "outputs": [
        {
          "output_type": "stream",
          "text": [
            "TRAINING STOPPED AFTER  428 EPOCHS\n",
            "        Train Loss : 0.49878\n",
            "   Validation Loss : 0.54422\n"
          ],
          "name": "stdout"
        }
      ]
    },
    {
      "cell_type": "markdown",
      "metadata": {
        "id": "fuO2kJXCsajA",
        "colab_type": "text"
      },
      "source": [
        "**Visulization of loss improvement**"
      ]
    },
    {
      "cell_type": "code",
      "metadata": {
        "id": "92zbEd0qrLAt",
        "colab_type": "code",
        "outputId": "f744c011-b3ef-4593-d0b8-be68cde390d0",
        "colab": {
          "base_uri": "https://localhost:8080/",
          "height": 311
        }
      },
      "source": [
        "fig = plt.figure(figsize=(7, 4))\n",
        "ax = plt.axes()\n",
        "\n",
        "train_plot = ax.plot(train_loss, color=plot_colors.light_2, lw=1)\n",
        "val_plot = ax.plot(validation_loss, color=plot_colors.dark_2, lw=1)\n",
        "\n",
        "ax.spines[\"top\"].set_visible(False)\n",
        "ax.spines[\"right\"].set_visible(False)\n",
        "# ax.spines[\"bottom\"].set_visible(False)\n",
        "\n",
        "ax.set_xticklabels([str(int(tick)) for tick in ax.get_xticks()],\n",
        "                   fontproperties=labels_font)\n",
        "ax.set_yticklabels([str('{:1.1f}'.format(tick)) for tick in ax.get_yticks()],\n",
        "                   fontproperties=labels_font)\n",
        "ax.tick_params(axis='both', color='black', length=3, width=.75)\n",
        "\n",
        "legend = ax.legend(['Train loss', 'Validation Loss'], prop=labels_font)\n",
        "title = ax.set_title('Evolution of model\\'s loss over ' + str(es_epochs[0]) +\\\n",
        "                     ' epochs\\n\\n', \n",
        "                     fontproperties=title_font, horizontalalignment='center')"
      ],
      "execution_count": 119,
      "outputs": [
        {
          "output_type": "display_data",
          "data": {
            "image/png": "[encoded data removed]",
            "text/plain": [
              "<Figure size 504x288 with 1 Axes>"
            ]
          },
          "metadata": {
            "tags": [],
            "needs_background": "light"
          }
        }
      ]
    },
    {
      "cell_type": "markdown",
      "metadata": {
        "id": "jkFK_w_psmrs",
        "colab_type": "text"
      },
      "source": [
        "**Model's performance metrics on the training set, the test set and validation set.**\n",
        "\n",
        "---\n",
        "\n",
        "The accuracy of classification of the ***training set*** is very close to the accuracy of classification of the ***test set*** and the  \n",
        "***validation set***. This shows that the model is not overfit.  \n",
        "  \n",
        "Also, giving the good scores, the model is not underfit, either."
      ]
    },
    {
      "cell_type": "code",
      "metadata": {
        "id": "Ibo5zwuvy7FG",
        "colab_type": "code",
        "outputId": "f5942226-359a-4c3c-bdbd-e4c6ce94e70c",
        "colab": {
          "base_uri": "https://localhost:8080/",
          "height": 273
        }
      },
      "source": [
        "with torch.no_grad():\n",
        "\n",
        "    train_output = model1(x_train.float())\n",
        "    _, train_pred = torch.max(train_output, 1)\n",
        "    \n",
        "    validation_output = model1(x_val.float())\n",
        "    _, validation_pred = torch.max(validation_output, 1)\n",
        "\n",
        "    test_output = model1(x_test.float())\n",
        "    _, test_pred = torch.max(test_output, 1)\n",
        "\n",
        "labels = ['Scor 1', 'Scor 2', 'Scor 3', 'Scor 4', 'Scor 5']\n",
        "\n",
        "train_report = classification_report(y_train, train_pred, target_names=labels,\n",
        "                                     output_dict=True)\n",
        "validation_report = classification_report(y_val, validation_pred, target_names=labels,\n",
        "                                     output_dict=True)\n",
        "test_report = classification_report(y_test, test_pred, target_names=labels,\n",
        "                                     output_dict=True)\n",
        "\n",
        "table_title = print('Recall score for each class \\n'.upper())\n",
        "header = print('%7s | %10s | %10s | %10s' % (' ', 'Train  ', 'Validation', 'Test   '))\n",
        "delim = print('-'*48)\n",
        "for label in labels:\n",
        "  train_recall = train_report[label]['recall']\n",
        "  validation_recall = validation_report[label]['recall']\n",
        "  test_recall = test_report[label]['recall']\n",
        "  print('%7s | %10.3f | %10.3f | %10.3f' % \n",
        "        (label, train_recall, validation_recall, test_recall))\n",
        "\n",
        "model_score = print('\\n\\nModel performance'.upper() + ' (f1-score) ')\n",
        "train_perf = train_report['accuracy']\n",
        "validation_perf = validation_report['accuracy']\n",
        "test_perf = test_report['accuracy']\n",
        "print('%13s : %.2f' % ('Train', train_perf))\n",
        "print('%13s : %.2f' % ('Validation', validation_perf))\n",
        "print('%13s : %.2f' % ('Test', test_perf))"
      ],
      "execution_count": 120,
      "outputs": [
        {
          "output_type": "stream",
          "text": [
            "RECALL SCORE FOR EACH CLASS \n",
            "\n",
            "        |    Train   | Validation |    Test   \n",
            "------------------------------------------------\n",
            " Scor 1 |      0.722 |      0.737 |      0.762\n",
            " Scor 2 |      0.607 |      0.542 |      0.434\n",
            " Scor 3 |      0.786 |      0.744 |      0.782\n",
            " Scor 4 |      0.902 |      0.894 |      0.891\n",
            " Scor 5 |      0.868 |      0.828 |      0.750\n",
            "\n",
            "\n",
            "MODEL PERFORMANCE (f1-score) \n",
            "        Train : 0.78\n",
            "   Validation : 0.76\n",
            "         Test : 0.73\n"
          ],
          "name": "stdout"
        }
      ]
    },
    {
      "cell_type": "markdown",
      "metadata": {
        "id": "L6A7xnw_sxeK",
        "colab_type": "text"
      },
      "source": [
        "**Model's performance measured on the validation and test sets**\n",
        "\n",
        "---\n",
        "\n",
        "The best results are for data in class *`Scor 4`*, that have the largest number of samples.  \n",
        "  \n",
        "Reading the confusion matrix, we notice that most errors are for data in class *`Scor 2`*, that are misclassified as belonging to class *`Scor 1`*."
      ]
    },
    {
      "cell_type": "code",
      "metadata": {
        "id": "L0DHwuuBk2vD",
        "colab_type": "code",
        "outputId": "72637549-cb8a-479f-842a-2e0450dc641f",
        "colab": {
          "base_uri": "https://localhost:8080/",
          "height": 316
        }
      },
      "source": [
        "validation_matrix = confusion_matrix(y_val, validation_pred)\n",
        "\n",
        "tp_color = np.array(img_colors.light_2)[[2, 1, 0]]\n",
        "fn_color = np.array([255, 255, 255])\n",
        "confusion_img = draw_confusion_matrix(validation_matrix, 60, tp_color, fn_color)\n",
        "cv2_imshow(confusion_img)"
      ],
      "execution_count": 121,
      "outputs": [
        {
          "output_type": "display_data",
          "data": {
            "image/png": "[encoded data removed]",
            "text/plain": [
              "<PIL.Image.Image image mode=RGB size=300x300 at 0x7F4B67A53B00>"
            ]
          },
          "metadata": {
            "tags": []
          }
        }
      ]
    },
    {
      "cell_type": "code",
      "metadata": {
        "id": "Z0Ljj17VTsxl",
        "colab_type": "code",
        "outputId": "6e114b17-4dfb-4248-ecf8-079ec62124c9",
        "colab": {
          "base_uri": "https://localhost:8080/",
          "height": 316
        }
      },
      "source": [
        "test_matrix = confusion_matrix(y_test, test_pred)\n",
        "\n",
        "tp_color = np.array(img_colors.light_2)[[2, 1, 0]]\n",
        "fn_color = np.array([255, 255, 255])\n",
        "confusion_img = draw_confusion_matrix(test_matrix, 60, tp_color, fn_color)\n",
        "cv2_imshow(confusion_img)"
      ],
      "execution_count": 122,
      "outputs": [
        {
          "output_type": "display_data",
          "data": {
            "image/png": "[encoded data removed]",
            "text/plain": [
              "<PIL.Image.Image image mode=RGB size=300x300 at 0x7F4B67A533C8>"
            ]
          },
          "metadata": {
            "tags": []
          }
        }
      ]
    },
    {
      "cell_type": "markdown",
      "metadata": {
        "id": "GhQJ3hc4jAgS",
        "colab_type": "text"
      },
      "source": [
        "### **2. Regression Problem**"
      ]
    },
    {
      "cell_type": "markdown",
      "metadata": {
        "id": "APiPn5Z-PvZN",
        "colab_type": "text"
      },
      "source": [
        "#### **Preparing Data for regression**"
      ]
    },
    {
      "cell_type": "markdown",
      "metadata": {
        "id": "uq5vJQF3PxxI",
        "colab_type": "text"
      },
      "source": [
        "Converting the data from ***pandas.DataFrame*** format to ***pytorch*** format.\n",
        "  \n",
        "This time we'll use MSE loss. Hence, the labels tensor will remain in the range $\\small{1\\ ..\\ 5}$."
      ]
    },
    {
      "cell_type": "code",
      "metadata": {
        "id": "C6pXuFI7QQku",
        "colab_type": "code",
        "colab": {}
      },
      "source": [
        "x_train = torch.from_numpy(train_data.values)\n",
        "y_train = torch.from_numpy(train_labels.values)\n",
        "\n",
        "x_val = torch.from_numpy(val_data.values)\n",
        "y_val = torch.from_numpy(val_labels.values)\n",
        "\n",
        "x_test = torch.from_numpy(test_data.values)\n",
        "y_test = torch.from_numpy(test_labels.values)"
      ],
      "execution_count": 0,
      "outputs": []
    },
    {
      "cell_type": "code",
      "metadata": {
        "id": "tEp5VgZbQQ85",
        "colab_type": "code",
        "colab": {}
      },
      "source": [
        "batch_size = 32\n",
        "\n",
        "housing_dataset = HousingDataset(x_train, y_train)\n",
        "housing_loader = DataLoader(housing_dataset, batch_size=batch_size, shuffle=True)"
      ],
      "execution_count": 0,
      "outputs": []
    },
    {
      "cell_type": "markdown",
      "metadata": {
        "id": "Anc3Aq1QQf0E",
        "colab_type": "text"
      },
      "source": [
        "#### **Defining the model**\n",
        "\n",
        "---\n",
        "\n",
        "\n",
        "\n",
        "*   **Neural network architecture:**  \n",
        "&nbsp; &nbsp; One hidden layer&nbsp; &nbsp; |&nbsp; &nbsp; Linear transformations&nbsp; &nbsp; |&nbsp; &nbsp; Custom Sigmoid activation  \n",
        "  \n",
        "*   **Loss function:**  \n",
        "&nbsp; &nbsp; MSE Loss \n",
        "  \n",
        "*   **Optimizer:**  \n",
        "&nbsp; &nbsp; SGD&nbsp; &nbsp; \n",
        "  \n",
        "*   **Regularization:**  \n",
        "&nbsp; &nbsp; Early Stopping &nbsp; &nbsp; |&nbsp; &nbsp; Weight decay"
      ]
    },
    {
      "cell_type": "markdown",
      "metadata": {
        "id": "NWp3wRITQvQM",
        "colab_type": "text"
      },
      "source": [
        "\n",
        "\n",
        "---\n",
        "\n",
        "\n",
        "The regression outputs continuous values.  \n",
        "In order for the MSE Loss to be meningful in this context, we'll define a custom sigmoid activation:    \n",
        "$\\hspace{10mm}\\small{sigmoid\\ output\\ range}:\\ \\ [0\\ ..\\ 1]\\hspace{10mm}\\rightarrow\\hspace{10mm}\\small{custom\\ sigmoid\\ output\\ range} :\\ [0.5\\ ..\\ 5.5]$  \n",
        "  \n",
        "This way, we discretize the target; every class can be interpreted as continuous values in a range of length $1$:  \n",
        "$\\small{\\hspace{5mm}0.5\\ ..\\ 1.5\\hspace{5mm}|\\hspace{5mm}1.5\\ ..\\ 2.5\\hspace{5mm}|\\hspace{5mm}2.5\\ ..\\ 3.5\\hspace{5mm}|\\hspace{5mm}3.5\\ ..\\ 4.5\\hspace{5mm}|\\hspace{5mm}4.5\\ ..\\ 5.5}$  \n",
        "$\\bf{\\hspace{12mm}\\downarrow \\hspace{26mm}\\downarrow \\hspace{26mm}\\downarrow \\hspace{26mm}\\downarrow \\hspace{26mm}\\downarrow}$  \n",
        "$\\small{\\hspace{7mm}Scor\\ 1\\hspace{17mm}Scor\\ 2\\hspace{16mm}Scor\\ 3\\hspace{16mm}Scor\\ 4\\hspace{17mm}Scor\\ 5}$"
      ]
    },
    {
      "cell_type": "code",
      "metadata": {
        "id": "M6C3_Ou0jOtH",
        "colab_type": "code",
        "colab": {}
      },
      "source": [
        "def custom_sigmoid(x, new_range):\n",
        "  score_min, score_max = new_range\n",
        "  x = torch.sigmoid(x)\n",
        "  return x * (score_max - score_min) + score_min"
      ],
      "execution_count": 0,
      "outputs": []
    },
    {
      "cell_type": "code",
      "metadata": {
        "id": "ecj-x7ytmZ2q",
        "colab_type": "code",
        "colab": {}
      },
      "source": [
        "class RegressionNN1(nn.Module):\n",
        "  def __init__(self, in_size, hid_size, out_size, new_range):\n",
        "    super().__init__()\n",
        "    self.score_range = new_range\n",
        "    self._fc1 = nn.Linear(in_size, hid_size)\n",
        "    self._fc2 = nn.Linear(hid_size, out_size)\n",
        "        \n",
        "  def forward(self, x):\n",
        "    x = self._fc1(x)\n",
        "    x = torch.relu(x)\n",
        "    x = self._fc2(x)\n",
        "    x = custom_sigmoid(x, self.score_range)\n",
        "\n",
        "    return x"
      ],
      "execution_count": 0,
      "outputs": []
    },
    {
      "cell_type": "code",
      "metadata": {
        "id": "37vvfdiTnH3E",
        "colab_type": "code",
        "colab": {}
      },
      "source": [
        "input_size = 55\n",
        "hidden_size = 25\n",
        "output_size = 1\n",
        "score_range = [0.5, 5.5]"
      ],
      "execution_count": 0,
      "outputs": []
    },
    {
      "cell_type": "code",
      "metadata": {
        "id": "gLgB7Sgljjik",
        "colab_type": "code",
        "colab": {}
      },
      "source": [
        "patience = 20\n",
        "\n",
        "# Every time a new minima is found, we save the time, the loss value and the \n",
        "# model parameters\n",
        "checkpoint_epoch = 0\n",
        "checkpoint_losses = []\n",
        "checkpoint_path = '/content/checkpointR1.pt'\n",
        "\n",
        "es_epochs = []\n",
        "es_losses = []\n",
        "es_models = []\n",
        "\n",
        "best_loss = np.inf\n",
        "train_loss = []\n",
        "validation_loss = []\n",
        "log_interval = 25"
      ],
      "execution_count": 0,
      "outputs": []
    },
    {
      "cell_type": "code",
      "metadata": {
        "id": "D-mIIXmwmxUC",
        "colab_type": "code",
        "colab": {}
      },
      "source": [
        "model2 = RegressionNN1(input_size, hidden_size, output_size, score_range)\n",
        "\n",
        "learning_rate = 0.005\n",
        "weight_reg = 0.001\n",
        "optimizer = torch.optim.SGD(model2.parameters(), lr=learning_rate,\n",
        "                            weight_decay=weight_reg)\n",
        "\n",
        "criterion = nn.MSELoss()"
      ],
      "execution_count": 0,
      "outputs": []
    },
    {
      "cell_type": "code",
      "metadata": {
        "id": "6kFyP1E-j1hn",
        "colab_type": "code",
        "outputId": "8cbe9f00-0b76-4cee-9126-ec9614b32b3b",
        "colab": {
          "base_uri": "https://localhost:8080/",
          "height": 665
        }
      },
      "source": [
        "# We take a counter 'wait' that will monitor the number of epochs trained after\n",
        "# an increase in the validation loss was found\n",
        "still_training = True\n",
        "wait = 0\n",
        "\n",
        "while still_training:\n",
        "\n",
        "  iter_loss = []\n",
        "  for x, y_true in housing_loader:\n",
        "    x = x.float()\n",
        "    y_pred = model2(x)  \n",
        "    y_true = y_true.reshape_as(y_pred)\n",
        "    batch_loss = criterion(y_pred.double(), y_true.double())\n",
        "\n",
        "    optimizer.zero_grad()\n",
        "    batch_loss.backward()\n",
        "    optimizer.step()\n",
        "\n",
        "    iter_loss.append(batch_loss.detach().numpy())\n",
        "\n",
        "  # At the end of each epoch, we compute the validation loss without \n",
        "  # storing it's gradients\n",
        "  model2.eval()\n",
        "  with torch.no_grad():\n",
        "    val_pred = model2(x_val.float())\n",
        "    y_val = y_val.reshape_as(val_pred)\n",
        "    val_loss = criterion(val_pred.double(), y_val.double())\n",
        "\n",
        "  # We compute the generalization loss an compare it to the admissible bound\n",
        "  es_measure = np.mean(val_loss.detach().numpy()) / best_loss - 1\n",
        "  if es_measure <= .0002:\n",
        "    if wait:      \n",
        "      checkpoint_epoch += wait - 1\n",
        "      wait = 0\n",
        "\n",
        "    # The minimum loss found replaces the old one and the current model is saved\n",
        "    best_loss = np.mean(val_loss.detach().numpy())\n",
        "    train_loss = train_loss[:checkpoint_epoch]\n",
        "    validation_loss = validation_loss[:checkpoint_epoch]\n",
        "\n",
        "    checkpoint_epoch += 1\n",
        "    checkpoint_losses = [np.mean(iter_loss), np.mean(val_loss.detach().numpy())]\n",
        "    torch.save(model2.state_dict(), checkpoint_path)\n",
        "  else:    \n",
        "    # The loss increased\n",
        "\n",
        "    if wait == patience:      \n",
        "      # If we reached the maximum number of extra epochs, the training is stopped\n",
        "      # The best model is restored\n",
        "      still_training = False\n",
        "      model2.load_state_dict(torch.load(checkpoint_path))\n",
        "      es_epochs.append(checkpoint_epoch)\n",
        "      es_losses.append(checkpoint_losses)\n",
        "      es_models.append(model2)\n",
        "\n",
        "      train_loss = train_loss[:checkpoint_epoch]\n",
        "      validation_loss = validation_loss[:checkpoint_epoch]\n",
        "\n",
        "      print('Validation loss not improved for %d epochs since last checkpoint : %.6f ---> %.6f' %\n",
        "            (patience, best_loss, np.mean(val_loss.detach().numpy())))\n",
        "      print('Restoring last saved model : epoch %4d' % checkpoint_epoch)\n",
        "    else:    \n",
        "      # If we did not reached the maximum number of extra epochs, the training \n",
        "      # continues without saving the model\n",
        "      wait += 1\n",
        "  \n",
        "  train_loss.append(np.mean(iter_loss))\n",
        "  validation_loss.append(np.mean(val_loss.detach().numpy()))\n",
        "\n",
        "  # Displaying the model's state every 50 epochs\n",
        "  if (checkpoint_epoch+1+wait) % log_interval == 0:\n",
        "      print('EPOCH %4d :' % (checkpoint_epoch+1+wait))\n",
        "      print('   train_loss = %.6f' % train_loss[-1])\n",
        "      print('   validation_loss = %.6f' % validation_loss[-1])"
      ],
      "execution_count": 130,
      "outputs": [
        {
          "output_type": "stream",
          "text": [
            "EPOCH   25 :\n",
            "   train_loss = 0.752092\n",
            "   validation_loss = 0.702208\n",
            "EPOCH   25 :\n",
            "   train_loss = 0.749164\n",
            "   validation_loss = 0.689634\n",
            "EPOCH   50 :\n",
            "   train_loss = 0.669791\n",
            "   validation_loss = 0.644145\n",
            "EPOCH   75 :\n",
            "   train_loss = 0.597542\n",
            "   validation_loss = 0.612063\n",
            "EPOCH  100 :\n",
            "   train_loss = 0.544951\n",
            "   validation_loss = 0.578985\n",
            "EPOCH  125 :\n",
            "   train_loss = 0.522361\n",
            "   validation_loss = 0.558770\n",
            "EPOCH  150 :\n",
            "   train_loss = 0.488916\n",
            "   validation_loss = 0.543188\n",
            "EPOCH  175 :\n",
            "   train_loss = 0.474646\n",
            "   validation_loss = 0.551745\n",
            "EPOCH  200 :\n",
            "   train_loss = 0.459339\n",
            "   validation_loss = 0.528914\n",
            "EPOCH  225 :\n",
            "   train_loss = 0.447451\n",
            "   validation_loss = 0.521302\n",
            "EPOCH  250 :\n",
            "   train_loss = 0.442858\n",
            "   validation_loss = 0.524830\n",
            "EPOCH  275 :\n",
            "   train_loss = 0.442419\n",
            "   validation_loss = 0.519074\n",
            "Validation loss not improved for 20 epochs since last checkpoint : 0.512834 ---> 0.513981\n",
            "Restoring last saved model : epoch  271\n"
          ],
          "name": "stdout"
        }
      ]
    },
    {
      "cell_type": "markdown",
      "metadata": {
        "id": "0NMm4QwiqYWo",
        "colab_type": "text"
      },
      "source": [
        "#### **Evaluation of the model**"
      ]
    },
    {
      "cell_type": "markdown",
      "metadata": {
        "id": "m-U04qTZqZrW",
        "colab_type": "text"
      },
      "source": [
        "**Stopping time statistics**"
      ]
    },
    {
      "cell_type": "code",
      "metadata": {
        "id": "7SPDhx2UkRmP",
        "colab_type": "code",
        "outputId": "ecd20322-9929-462e-f9ce-492eab8bb84e",
        "colab": {
          "base_uri": "https://localhost:8080/",
          "height": 68
        }
      },
      "source": [
        "print('TRAINING STOPPED AFTER %4d EPOCHS' % es_epochs[0])\n",
        "print('%18s : %.5f' % ('Train Loss', es_losses[0][0]))\n",
        "print('%18s : %.5f' % ('Validation Loss', es_losses[0][1]))"
      ],
      "execution_count": 131,
      "outputs": [
        {
          "output_type": "stream",
          "text": [
            "TRAINING STOPPED AFTER  271 EPOCHS\n",
            "        Train Loss : 0.43175\n",
            "   Validation Loss : 0.51283\n"
          ],
          "name": "stdout"
        }
      ]
    },
    {
      "cell_type": "markdown",
      "metadata": {
        "id": "4WIQdt8Oqc03",
        "colab_type": "text"
      },
      "source": [
        "**Visulization of loss improvement**"
      ]
    },
    {
      "cell_type": "code",
      "metadata": {
        "id": "tL5Z1QI-vdjt",
        "colab_type": "code",
        "outputId": "303336b3-4810-4f80-ee24-f2c672704eda",
        "colab": {
          "base_uri": "https://localhost:8080/",
          "height": 311
        }
      },
      "source": [
        "fig = plt.figure(figsize=(7, 4))\n",
        "ax = plt.axes()\n",
        "\n",
        "train_plot = ax.plot(train_loss, color=plot_colors.light_2, lw=1)\n",
        "val_plot = ax.plot(validation_loss, color=plot_colors.dark_2, lw=1)\n",
        "\n",
        "ax.spines[\"top\"].set_visible(False)\n",
        "ax.spines[\"right\"].set_visible(False)\n",
        "\n",
        "ax.set_xticklabels([str(int(tick)) for tick in ax.get_xticks()],\n",
        "                   fontproperties=labels_font)\n",
        "ax.set_yticklabels([str('{:1.1f}'.format(tick)) for tick in ax.get_yticks()],\n",
        "                   fontproperties=labels_font)\n",
        "ax.tick_params(axis='both', color='black', length=3, width=.75)\n",
        "\n",
        "legend = ax.legend(['Train loss', 'Validation Loss'], prop=labels_font)\n",
        "title = ax.set_title('Evolution of model\\'s loss over ' + str(es_epochs[0]) +\\\n",
        "                     ' epochs\\n\\n', \n",
        "                     fontproperties=title_font, horizontalalignment='center')"
      ],
      "execution_count": 132,
      "outputs": [
        {
          "output_type": "display_data",
          "data": {
            "image/png": "[encoded data removed]",
            "text/plain": [
              "<Figure size 504x288 with 1 Axes>"
            ]
          },
          "metadata": {
            "tags": [],
            "needs_background": "light"
          }
        }
      ]
    },
    {
      "cell_type": "markdown",
      "metadata": {
        "id": "fyTq2pY8qlRO",
        "colab_type": "text"
      },
      "source": [
        "**Model's performance metrics on the training set, the test set and validation set.**\n",
        "\n",
        "---\n",
        "\n"
      ]
    },
    {
      "cell_type": "code",
      "metadata": {
        "id": "OxCCUJh-vriw",
        "colab_type": "code",
        "outputId": "b38c655f-bee4-47a6-fae0-8232e9c8498d",
        "colab": {
          "base_uri": "https://localhost:8080/",
          "height": 273
        }
      },
      "source": [
        "with torch.no_grad():\n",
        "\n",
        "    train_output = model2(x_train.float()).detach().numpy()\n",
        "    train_pred = np.rint(train_output)\n",
        "    for i in range(len(train_pred)):\n",
        "      train_pred[i] = min(5, train_pred[i])\n",
        "    \n",
        "    validation_output = model2(x_val.float()).detach().numpy()\n",
        "    validation_pred = np.rint(validation_output)\n",
        "    for i in range(len(validation_pred)):\n",
        "      validation_pred[i] = min(5, validation_pred[i])\n",
        "\n",
        "    test_output = model2(x_test.float()).detach().numpy()\n",
        "    test_pred = np.rint(test_output)\n",
        "    for i in range(len(test_pred)):\n",
        "      test_pred[i] = min(5, test_pred[i])\n",
        "\n",
        "labels = ['Scor 1', 'Scor 2', 'Scor 3', 'Scor 4', 'Scor 5']\n",
        "\n",
        "train_report = classification_report(y_train, train_pred, target_names=labels,\n",
        "                                     output_dict=True)\n",
        "validation_report = classification_report(y_val, validation_pred, target_names=labels,\n",
        "                                     output_dict=True)\n",
        "test_report = classification_report(y_test, test_pred, target_names=labels,\n",
        "                                     output_dict=True)\n",
        "\n",
        "table_title = print('Recall score for each class \\n'.upper())\n",
        "header = print('%7s | %10s | %10s | %10s' % (' ', 'Train  ', 'Validation', 'Test   '))\n",
        "delim = print('-'*48)\n",
        "for label in labels:\n",
        "  train_recall = train_report[label]['recall']\n",
        "  validation_recall = validation_report[label]['recall']\n",
        "  test_recall = test_report[label]['recall']\n",
        "  print('%7s | %10.3f | %10.3f | %10.3f' % \n",
        "        (label, train_recall, validation_recall, test_recall))\n",
        "\n",
        "model_score = print('\\n\\nModel performance'.upper() + ' (f1-score) ')\n",
        "train_perf = train_report['accuracy']\n",
        "validation_perf = validation_report['accuracy']\n",
        "test_perf = test_report['accuracy']\n",
        "print('%13s : %.2f' % ('Train', train_perf))\n",
        "print('%13s : %.2f' % ('Validation', validation_perf))\n",
        "print('%13s : %.2f' % ('Test', test_perf))"
      ],
      "execution_count": 133,
      "outputs": [
        {
          "output_type": "stream",
          "text": [
            "RECALL SCORE FOR EACH CLASS \n",
            "\n",
            "        |    Train   | Validation |    Test   \n",
            "------------------------------------------------\n",
            " Scor 1 |      0.469 |      0.389 |      0.438\n",
            " Scor 2 |      0.590 |      0.450 |      0.407\n",
            " Scor 3 |      0.578 |      0.590 |      0.527\n",
            " Scor 4 |      0.811 |      0.775 |      0.788\n",
            " Scor 5 |      0.646 |      0.629 |      0.540\n",
            "\n",
            "\n",
            "MODEL PERFORMANCE (f1-score) \n",
            "        Train : 0.64\n",
            "   Validation : 0.59\n",
            "         Test : 0.56\n"
          ],
          "name": "stdout"
        }
      ]
    },
    {
      "cell_type": "markdown",
      "metadata": {
        "id": "hBlxwgTxqnC3",
        "colab_type": "text"
      },
      "source": [
        "**Model's performance measured on the validation and test sets**\n",
        "\n",
        "---\n",
        "\n",
        "The best results are for data in class *`Scor 4`*, that have the largest number of samples.  \n",
        "  \n",
        "This time, reading the confusion matrix, we notice that many samples in class *`Scor 1`* are misclassified as belonging to class *`Scor 2`* and many samples in class *`Scor 2`* are misclassified as belonging to class *`Scor 1`*, but also as belonging to class *`Scor 3`*."
      ]
    },
    {
      "cell_type": "code",
      "metadata": {
        "id": "FR1jjUznbyGf",
        "colab_type": "code",
        "outputId": "003185d6-2449-421a-dc12-fe3ca85c7c04",
        "colab": {
          "base_uri": "https://localhost:8080/",
          "height": 316
        }
      },
      "source": [
        "validation_matrix = confusion_matrix(y_val, validation_pred)\n",
        "\n",
        "tp_color = np.array(img_colors.light_2)[[2, 1, 0]]\n",
        "fn_color = np.array([255, 255, 255])\n",
        "confusion_img = draw_confusion_matrix(validation_matrix, 60, tp_color, fn_color)\n",
        "cv2_imshow(confusion_img)"
      ],
      "execution_count": 134,
      "outputs": [
        {
          "output_type": "display_data",
          "data": {
            "image/png": "[encoded data removed]",
            "text/plain": [
              "<PIL.Image.Image image mode=RGB size=300x300 at 0x7F4B67A563C8>"
            ]
          },
          "metadata": {
            "tags": []
          }
        }
      ]
    },
    {
      "cell_type": "code",
      "metadata": {
        "id": "npNEZjv0b0zk",
        "colab_type": "code",
        "outputId": "eaa7ea71-3161-4bb7-a0f5-df483ac6aac5",
        "colab": {
          "base_uri": "https://localhost:8080/",
          "height": 316
        }
      },
      "source": [
        "test_matrix = confusion_matrix(y_test, test_pred)\n",
        "\n",
        "tp_color = np.array(img_colors.light_2)[[2, 1, 0]]\n",
        "fn_color = np.array([255, 255, 255])\n",
        "confusion_img = draw_confusion_matrix(test_matrix, 60, tp_color, fn_color)\n",
        "cv2_imshow(confusion_img)"
      ],
      "execution_count": 135,
      "outputs": [
        {
          "output_type": "display_data",
          "data": {
            "image/png": "[encoded data removed]",
            "text/plain": [
              "<PIL.Image.Image image mode=RGB size=300x300 at 0x7F4B67A56978>"
            ]
          },
          "metadata": {
            "tags": []
          }
        }
      ]
    },
    {
      "cell_type": "markdown",
      "metadata": {
        "colab_type": "text",
        "id": "00ENws-Jw8oi"
      },
      "source": [
        "## **B.** ***Pret*** **Prediction**"
      ]
    },
    {
      "cell_type": "markdown",
      "metadata": {
        "colab_type": "text",
        "id": "8G5y62EMw8oj"
      },
      "source": [
        "##Processing data"
      ]
    },
    {
      "cell_type": "markdown",
      "metadata": {
        "colab_type": "text",
        "id": "hGnK-OKbw8oo"
      },
      "source": [
        "### **Dealing with categorical data**\n",
        "\n",
        "---  \n",
        "\n",
        "This dataset contains five columns with discrete/categorical values :  \n",
        "&nbsp; &nbsp; &nbsp; &nbsp; &nbsp; &nbsp; ***Nr_Camere***&nbsp; &nbsp; |&nbsp; &nbsp; ***Etaj***&nbsp; &nbsp; |&nbsp; &nbsp; ***Total_Etaje***&nbsp; &nbsp; |&nbsp; &nbsp; ***Sector***&nbsp; &nbsp; |&nbsp; &nbsp; ***Scor***\n"
      ]
    },
    {
      "cell_type": "code",
      "metadata": {
        "colab_type": "code",
        "outputId": "170ac5e8-ac5d-4278-d561-92d8843c8fae",
        "id": "w5FoizcYw8oo",
        "colab": {
          "base_uri": "https://localhost:8080/",
          "height": 197
        }
      },
      "source": [
        "housing_data.head()"
      ],
      "execution_count": 136,
      "outputs": [
        {
          "output_type": "execute_result",
          "data": {
            "text/html": [
              "<div>\n",
              "<style scoped>\n",
              "    .dataframe tbody tr th:only-of-type {\n",
              "        vertical-align: middle;\n",
              "    }\n",
              "\n",
              "    .dataframe tbody tr th {\n",
              "        vertical-align: top;\n",
              "    }\n",
              "\n",
              "    .dataframe thead th {\n",
              "        text-align: right;\n",
              "    }\n",
              "</style>\n",
              "<table border=\"1\" class=\"dataframe\">\n",
              "  <thead>\n",
              "    <tr style=\"text-align: right;\">\n",
              "      <th></th>\n",
              "      <th>Nr_Camere</th>\n",
              "      <th>Suprafata</th>\n",
              "      <th>Etaj</th>\n",
              "      <th>Total_Etaje</th>\n",
              "      <th>Sector</th>\n",
              "      <th>Scor</th>\n",
              "      <th>Pret</th>\n",
              "    </tr>\n",
              "  </thead>\n",
              "  <tbody>\n",
              "    <tr>\n",
              "      <th>0</th>\n",
              "      <td>4</td>\n",
              "      <td>108.00</td>\n",
              "      <td>2</td>\n",
              "      <td>3</td>\n",
              "      <td>4</td>\n",
              "      <td>5</td>\n",
              "      <td>83000</td>\n",
              "    </tr>\n",
              "    <tr>\n",
              "      <th>1</th>\n",
              "      <td>1</td>\n",
              "      <td>41.00</td>\n",
              "      <td>1</td>\n",
              "      <td>8</td>\n",
              "      <td>1</td>\n",
              "      <td>1</td>\n",
              "      <td>39900</td>\n",
              "    </tr>\n",
              "    <tr>\n",
              "      <th>2</th>\n",
              "      <td>3</td>\n",
              "      <td>63.52</td>\n",
              "      <td>1</td>\n",
              "      <td>3</td>\n",
              "      <td>2</td>\n",
              "      <td>3</td>\n",
              "      <td>84900</td>\n",
              "    </tr>\n",
              "    <tr>\n",
              "      <th>3</th>\n",
              "      <td>1</td>\n",
              "      <td>33.00</td>\n",
              "      <td>3</td>\n",
              "      <td>10</td>\n",
              "      <td>5</td>\n",
              "      <td>1</td>\n",
              "      <td>45500</td>\n",
              "    </tr>\n",
              "    <tr>\n",
              "      <th>4</th>\n",
              "      <td>2</td>\n",
              "      <td>62.00</td>\n",
              "      <td>5</td>\n",
              "      <td>9</td>\n",
              "      <td>5</td>\n",
              "      <td>5</td>\n",
              "      <td>54900</td>\n",
              "    </tr>\n",
              "  </tbody>\n",
              "</table>\n",
              "</div>"
            ],
            "text/plain": [
              "   Nr_Camere  Suprafata  Etaj  Total_Etaje  Sector  Scor   Pret\n",
              "0          4     108.00     2            3       4     5  83000\n",
              "1          1      41.00     1            8       1     1  39900\n",
              "2          3      63.52     1            3       2     3  84900\n",
              "3          1      33.00     3           10       5     1  45500\n",
              "4          2      62.00     5            9       5     5  54900"
            ]
          },
          "metadata": {
            "tags": []
          },
          "execution_count": 136
        }
      ]
    },
    {
      "cell_type": "markdown",
      "metadata": {
        "colab_type": "text",
        "id": "Ki2_r3Y2w8os"
      },
      "source": [
        "Displaying some information about these columns:  "
      ]
    },
    {
      "cell_type": "code",
      "metadata": {
        "colab_type": "code",
        "outputId": "f2b22c21-b082-484f-d39e-483f316415d2",
        "id": "CUnGXWWDw8os",
        "colab": {
          "base_uri": "https://localhost:8080/",
          "height": 102
        }
      },
      "source": [
        "categ_cols = ['Nr_Camere', 'Etaj', 'Total_Etaje', 'Sector', 'Scor']\n",
        "\n",
        "print_spaces = [len(c) for c in categ_cols]\n",
        "max_spaces = max(print_spaces)\n",
        "for col in range(len(categ_cols)):\n",
        "  print('%15s :  %2d %s  |   %2d .. %2d  |  %s'%\n",
        "        (categ_cols[col],\n",
        "         len(set(housing_data[categ_cols[col]])), 'unique values',\n",
        "         housing_data[categ_cols[col]].min(), housing_data[categ_cols[col]].max(),\n",
        "         str(list(set(housing_data[categ_cols[col]])))))"
      ],
      "execution_count": 137,
      "outputs": [
        {
          "output_type": "stream",
          "text": [
            "      Nr_Camere :   9 unique values  |    1 ..  9  |  [1, 2, 3, 4, 5, 6, 7, 8, 9]\n",
            "           Etaj :  19 unique values  |   -1 .. 20  |  [0, 1, 2, 3, 4, 5, 6, 7, 8, 9, 10, 11, 12, 13, 14, 15, 17, 20, -1]\n",
            "    Total_Etaje :  19 unique values  |    1 .. 24  |  [1, 2, 3, 4, 5, 6, 7, 8, 9, 10, 11, 12, 13, 14, 15, 16, 17, 18, 24]\n",
            "         Sector :   6 unique values  |    1 ..  6  |  [1, 2, 3, 4, 5, 6]\n",
            "           Scor :   5 unique values  |    1 ..  5  |  [1, 2, 3, 4, 5]\n"
          ],
          "name": "stdout"
        }
      ]
    },
    {
      "cell_type": "markdown",
      "metadata": {
        "colab_type": "text",
        "id": "pjm1WSh7w8ov"
      },
      "source": [
        "#### **One-Hot Encoding**\n",
        "\n",
        "---\n",
        "\n",
        "The dataset is already declared as a *pandas.DataFrame*, so I'll make use of the *`get_dummies()`* method for encoding the categorical columns, specifying ***float64*** as output type.  \n",
        "  \n",
        "\n",
        "Before encoding, we check the type of data in each column and see that there are only ***numerical*** values."
      ]
    },
    {
      "cell_type": "code",
      "metadata": {
        "colab_type": "code",
        "outputId": "0c128c80-327c-46cd-8c06-72e9cfa4c066",
        "id": "h_i_h3drw8ov",
        "colab": {
          "base_uri": "https://localhost:8080/",
          "height": 153
        }
      },
      "source": [
        "housing_data.dtypes"
      ],
      "execution_count": 138,
      "outputs": [
        {
          "output_type": "execute_result",
          "data": {
            "text/plain": [
              "Nr_Camere        int64\n",
              "Suprafata      float64\n",
              "Etaj             int64\n",
              "Total_Etaje      int64\n",
              "Sector           int64\n",
              "Scor             int64\n",
              "Pret             int64\n",
              "dtype: object"
            ]
          },
          "metadata": {
            "tags": []
          },
          "execution_count": 138
        }
      ]
    },
    {
      "cell_type": "markdown",
      "metadata": {
        "colab_type": "text",
        "id": "wEh1mM9Cw8ox"
      },
      "source": [
        "After encoding, if we check the data again, we notice that the non-categorical columns now contain ***object*** types.  \n",
        "In order to be able to work with this data, we'll convert them to ***float64*** type."
      ]
    },
    {
      "cell_type": "code",
      "metadata": {
        "colab_type": "code",
        "outputId": "ee8bb48f-4db0-491b-d83d-5ed3759bdf2b",
        "id": "FtqT9tmzw8oy",
        "colab": {
          "base_uri": "https://localhost:8080/",
          "height": 68
        }
      },
      "source": [
        "encoded_housing_data = housing_data.copy()\n",
        "encoded_housing_data = pd.get_dummies(encoded_housing_data.astype(str), columns=categ_cols, dtype='float64')\n",
        "encoded_housing_data.dtypes['Suprafata':'Pret']"
      ],
      "execution_count": 139,
      "outputs": [
        {
          "output_type": "execute_result",
          "data": {
            "text/plain": [
              "Suprafata    object\n",
              "Pret         object\n",
              "dtype: object"
            ]
          },
          "metadata": {
            "tags": []
          },
          "execution_count": 139
        }
      ]
    },
    {
      "cell_type": "code",
      "metadata": {
        "colab_type": "code",
        "outputId": "d3bfb212-cd18-4034-84ed-9c90d1e5cabe",
        "id": "iAOVv94aw8o0",
        "colab": {
          "base_uri": "https://localhost:8080/",
          "height": 68
        }
      },
      "source": [
        "encoded_housing_data['Suprafata'] = encoded_housing_data.Suprafata.astype('float64')\n",
        "encoded_housing_data['Pret'] = encoded_housing_data.Pret.astype('float64')\n",
        "encoded_housing_data.dtypes['Suprafata':'Pret']"
      ],
      "execution_count": 140,
      "outputs": [
        {
          "output_type": "execute_result",
          "data": {
            "text/plain": [
              "Suprafata    float64\n",
              "Pret         float64\n",
              "dtype: object"
            ]
          },
          "metadata": {
            "tags": []
          },
          "execution_count": 140
        }
      ]
    },
    {
      "cell_type": "markdown",
      "metadata": {
        "colab_type": "text",
        "id": "nnneY5yIw8o2"
      },
      "source": [
        "Every categorical column has been replaced by a number of new columns equal to the number of unique values in the initial column.  "
      ]
    },
    {
      "cell_type": "code",
      "metadata": {
        "colab_type": "code",
        "outputId": "319eb7eb-1866-412f-929f-87c0472ec046",
        "id": "gCqQpf01w8o2",
        "colab": {
          "base_uri": "https://localhost:8080/",
          "height": 217
        }
      },
      "source": [
        "encoded_housing_data.head()"
      ],
      "execution_count": 141,
      "outputs": [
        {
          "output_type": "execute_result",
          "data": {
            "text/html": [
              "<div>\n",
              "<style scoped>\n",
              "    .dataframe tbody tr th:only-of-type {\n",
              "        vertical-align: middle;\n",
              "    }\n",
              "\n",
              "    .dataframe tbody tr th {\n",
              "        vertical-align: top;\n",
              "    }\n",
              "\n",
              "    .dataframe thead th {\n",
              "        text-align: right;\n",
              "    }\n",
              "</style>\n",
              "<table border=\"1\" class=\"dataframe\">\n",
              "  <thead>\n",
              "    <tr style=\"text-align: right;\">\n",
              "      <th></th>\n",
              "      <th>Suprafata</th>\n",
              "      <th>Pret</th>\n",
              "      <th>Nr_Camere_1</th>\n",
              "      <th>Nr_Camere_2</th>\n",
              "      <th>Nr_Camere_3</th>\n",
              "      <th>Nr_Camere_4</th>\n",
              "      <th>Nr_Camere_5</th>\n",
              "      <th>Nr_Camere_6</th>\n",
              "      <th>Nr_Camere_7</th>\n",
              "      <th>Nr_Camere_8</th>\n",
              "      <th>Nr_Camere_9</th>\n",
              "      <th>Etaj_-1</th>\n",
              "      <th>Etaj_0</th>\n",
              "      <th>Etaj_1</th>\n",
              "      <th>Etaj_10</th>\n",
              "      <th>Etaj_11</th>\n",
              "      <th>Etaj_12</th>\n",
              "      <th>Etaj_13</th>\n",
              "      <th>Etaj_14</th>\n",
              "      <th>Etaj_15</th>\n",
              "      <th>Etaj_17</th>\n",
              "      <th>Etaj_2</th>\n",
              "      <th>Etaj_20</th>\n",
              "      <th>Etaj_3</th>\n",
              "      <th>Etaj_4</th>\n",
              "      <th>Etaj_5</th>\n",
              "      <th>Etaj_6</th>\n",
              "      <th>Etaj_7</th>\n",
              "      <th>Etaj_8</th>\n",
              "      <th>Etaj_9</th>\n",
              "      <th>Total_Etaje_1</th>\n",
              "      <th>Total_Etaje_10</th>\n",
              "      <th>Total_Etaje_11</th>\n",
              "      <th>Total_Etaje_12</th>\n",
              "      <th>Total_Etaje_13</th>\n",
              "      <th>Total_Etaje_14</th>\n",
              "      <th>Total_Etaje_15</th>\n",
              "      <th>Total_Etaje_16</th>\n",
              "      <th>Total_Etaje_17</th>\n",
              "      <th>Total_Etaje_18</th>\n",
              "      <th>Total_Etaje_2</th>\n",
              "      <th>Total_Etaje_24</th>\n",
              "      <th>Total_Etaje_3</th>\n",
              "      <th>Total_Etaje_4</th>\n",
              "      <th>Total_Etaje_5</th>\n",
              "      <th>Total_Etaje_6</th>\n",
              "      <th>Total_Etaje_7</th>\n",
              "      <th>Total_Etaje_8</th>\n",
              "      <th>Total_Etaje_9</th>\n",
              "      <th>Sector_1</th>\n",
              "      <th>Sector_2</th>\n",
              "      <th>Sector_3</th>\n",
              "      <th>Sector_4</th>\n",
              "      <th>Sector_5</th>\n",
              "      <th>Sector_6</th>\n",
              "      <th>Scor_1</th>\n",
              "      <th>Scor_2</th>\n",
              "      <th>Scor_3</th>\n",
              "      <th>Scor_4</th>\n",
              "      <th>Scor_5</th>\n",
              "    </tr>\n",
              "  </thead>\n",
              "  <tbody>\n",
              "    <tr>\n",
              "      <th>0</th>\n",
              "      <td>108.00</td>\n",
              "      <td>83000.0</td>\n",
              "      <td>0.0</td>\n",
              "      <td>0.0</td>\n",
              "      <td>0.0</td>\n",
              "      <td>1.0</td>\n",
              "      <td>0.0</td>\n",
              "      <td>0.0</td>\n",
              "      <td>0.0</td>\n",
              "      <td>0.0</td>\n",
              "      <td>0.0</td>\n",
              "      <td>0.0</td>\n",
              "      <td>0.0</td>\n",
              "      <td>0.0</td>\n",
              "      <td>0.0</td>\n",
              "      <td>0.0</td>\n",
              "      <td>0.0</td>\n",
              "      <td>0.0</td>\n",
              "      <td>0.0</td>\n",
              "      <td>0.0</td>\n",
              "      <td>0.0</td>\n",
              "      <td>1.0</td>\n",
              "      <td>0.0</td>\n",
              "      <td>0.0</td>\n",
              "      <td>0.0</td>\n",
              "      <td>0.0</td>\n",
              "      <td>0.0</td>\n",
              "      <td>0.0</td>\n",
              "      <td>0.0</td>\n",
              "      <td>0.0</td>\n",
              "      <td>0.0</td>\n",
              "      <td>0.0</td>\n",
              "      <td>0.0</td>\n",
              "      <td>0.0</td>\n",
              "      <td>0.0</td>\n",
              "      <td>0.0</td>\n",
              "      <td>0.0</td>\n",
              "      <td>0.0</td>\n",
              "      <td>0.0</td>\n",
              "      <td>0.0</td>\n",
              "      <td>0.0</td>\n",
              "      <td>0.0</td>\n",
              "      <td>1.0</td>\n",
              "      <td>0.0</td>\n",
              "      <td>0.0</td>\n",
              "      <td>0.0</td>\n",
              "      <td>0.0</td>\n",
              "      <td>0.0</td>\n",
              "      <td>0.0</td>\n",
              "      <td>0.0</td>\n",
              "      <td>0.0</td>\n",
              "      <td>0.0</td>\n",
              "      <td>1.0</td>\n",
              "      <td>0.0</td>\n",
              "      <td>0.0</td>\n",
              "      <td>0.0</td>\n",
              "      <td>0.0</td>\n",
              "      <td>0.0</td>\n",
              "      <td>0.0</td>\n",
              "      <td>1.0</td>\n",
              "    </tr>\n",
              "    <tr>\n",
              "      <th>1</th>\n",
              "      <td>41.00</td>\n",
              "      <td>39900.0</td>\n",
              "      <td>1.0</td>\n",
              "      <td>0.0</td>\n",
              "      <td>0.0</td>\n",
              "      <td>0.0</td>\n",
              "      <td>0.0</td>\n",
              "      <td>0.0</td>\n",
              "      <td>0.0</td>\n",
              "      <td>0.0</td>\n",
              "      <td>0.0</td>\n",
              "      <td>0.0</td>\n",
              "      <td>0.0</td>\n",
              "      <td>1.0</td>\n",
              "      <td>0.0</td>\n",
              "      <td>0.0</td>\n",
              "      <td>0.0</td>\n",
              "      <td>0.0</td>\n",
              "      <td>0.0</td>\n",
              "      <td>0.0</td>\n",
              "      <td>0.0</td>\n",
              "      <td>0.0</td>\n",
              "      <td>0.0</td>\n",
              "      <td>0.0</td>\n",
              "      <td>0.0</td>\n",
              "      <td>0.0</td>\n",
              "      <td>0.0</td>\n",
              "      <td>0.0</td>\n",
              "      <td>0.0</td>\n",
              "      <td>0.0</td>\n",
              "      <td>0.0</td>\n",
              "      <td>0.0</td>\n",
              "      <td>0.0</td>\n",
              "      <td>0.0</td>\n",
              "      <td>0.0</td>\n",
              "      <td>0.0</td>\n",
              "      <td>0.0</td>\n",
              "      <td>0.0</td>\n",
              "      <td>0.0</td>\n",
              "      <td>0.0</td>\n",
              "      <td>0.0</td>\n",
              "      <td>0.0</td>\n",
              "      <td>0.0</td>\n",
              "      <td>0.0</td>\n",
              "      <td>0.0</td>\n",
              "      <td>0.0</td>\n",
              "      <td>0.0</td>\n",
              "      <td>1.0</td>\n",
              "      <td>0.0</td>\n",
              "      <td>1.0</td>\n",
              "      <td>0.0</td>\n",
              "      <td>0.0</td>\n",
              "      <td>0.0</td>\n",
              "      <td>0.0</td>\n",
              "      <td>0.0</td>\n",
              "      <td>1.0</td>\n",
              "      <td>0.0</td>\n",
              "      <td>0.0</td>\n",
              "      <td>0.0</td>\n",
              "      <td>0.0</td>\n",
              "    </tr>\n",
              "    <tr>\n",
              "      <th>2</th>\n",
              "      <td>63.52</td>\n",
              "      <td>84900.0</td>\n",
              "      <td>0.0</td>\n",
              "      <td>0.0</td>\n",
              "      <td>1.0</td>\n",
              "      <td>0.0</td>\n",
              "      <td>0.0</td>\n",
              "      <td>0.0</td>\n",
              "      <td>0.0</td>\n",
              "      <td>0.0</td>\n",
              "      <td>0.0</td>\n",
              "      <td>0.0</td>\n",
              "      <td>0.0</td>\n",
              "      <td>1.0</td>\n",
              "      <td>0.0</td>\n",
              "      <td>0.0</td>\n",
              "      <td>0.0</td>\n",
              "      <td>0.0</td>\n",
              "      <td>0.0</td>\n",
              "      <td>0.0</td>\n",
              "      <td>0.0</td>\n",
              "      <td>0.0</td>\n",
              "      <td>0.0</td>\n",
              "      <td>0.0</td>\n",
              "      <td>0.0</td>\n",
              "      <td>0.0</td>\n",
              "      <td>0.0</td>\n",
              "      <td>0.0</td>\n",
              "      <td>0.0</td>\n",
              "      <td>0.0</td>\n",
              "      <td>0.0</td>\n",
              "      <td>0.0</td>\n",
              "      <td>0.0</td>\n",
              "      <td>0.0</td>\n",
              "      <td>0.0</td>\n",
              "      <td>0.0</td>\n",
              "      <td>0.0</td>\n",
              "      <td>0.0</td>\n",
              "      <td>0.0</td>\n",
              "      <td>0.0</td>\n",
              "      <td>0.0</td>\n",
              "      <td>0.0</td>\n",
              "      <td>1.0</td>\n",
              "      <td>0.0</td>\n",
              "      <td>0.0</td>\n",
              "      <td>0.0</td>\n",
              "      <td>0.0</td>\n",
              "      <td>0.0</td>\n",
              "      <td>0.0</td>\n",
              "      <td>0.0</td>\n",
              "      <td>1.0</td>\n",
              "      <td>0.0</td>\n",
              "      <td>0.0</td>\n",
              "      <td>0.0</td>\n",
              "      <td>0.0</td>\n",
              "      <td>0.0</td>\n",
              "      <td>0.0</td>\n",
              "      <td>1.0</td>\n",
              "      <td>0.0</td>\n",
              "      <td>0.0</td>\n",
              "    </tr>\n",
              "    <tr>\n",
              "      <th>3</th>\n",
              "      <td>33.00</td>\n",
              "      <td>45500.0</td>\n",
              "      <td>1.0</td>\n",
              "      <td>0.0</td>\n",
              "      <td>0.0</td>\n",
              "      <td>0.0</td>\n",
              "      <td>0.0</td>\n",
              "      <td>0.0</td>\n",
              "      <td>0.0</td>\n",
              "      <td>0.0</td>\n",
              "      <td>0.0</td>\n",
              "      <td>0.0</td>\n",
              "      <td>0.0</td>\n",
              "      <td>0.0</td>\n",
              "      <td>0.0</td>\n",
              "      <td>0.0</td>\n",
              "      <td>0.0</td>\n",
              "      <td>0.0</td>\n",
              "      <td>0.0</td>\n",
              "      <td>0.0</td>\n",
              "      <td>0.0</td>\n",
              "      <td>0.0</td>\n",
              "      <td>0.0</td>\n",
              "      <td>1.0</td>\n",
              "      <td>0.0</td>\n",
              "      <td>0.0</td>\n",
              "      <td>0.0</td>\n",
              "      <td>0.0</td>\n",
              "      <td>0.0</td>\n",
              "      <td>0.0</td>\n",
              "      <td>0.0</td>\n",
              "      <td>1.0</td>\n",
              "      <td>0.0</td>\n",
              "      <td>0.0</td>\n",
              "      <td>0.0</td>\n",
              "      <td>0.0</td>\n",
              "      <td>0.0</td>\n",
              "      <td>0.0</td>\n",
              "      <td>0.0</td>\n",
              "      <td>0.0</td>\n",
              "      <td>0.0</td>\n",
              "      <td>0.0</td>\n",
              "      <td>0.0</td>\n",
              "      <td>0.0</td>\n",
              "      <td>0.0</td>\n",
              "      <td>0.0</td>\n",
              "      <td>0.0</td>\n",
              "      <td>0.0</td>\n",
              "      <td>0.0</td>\n",
              "      <td>0.0</td>\n",
              "      <td>0.0</td>\n",
              "      <td>0.0</td>\n",
              "      <td>0.0</td>\n",
              "      <td>1.0</td>\n",
              "      <td>0.0</td>\n",
              "      <td>1.0</td>\n",
              "      <td>0.0</td>\n",
              "      <td>0.0</td>\n",
              "      <td>0.0</td>\n",
              "      <td>0.0</td>\n",
              "    </tr>\n",
              "    <tr>\n",
              "      <th>4</th>\n",
              "      <td>62.00</td>\n",
              "      <td>54900.0</td>\n",
              "      <td>0.0</td>\n",
              "      <td>1.0</td>\n",
              "      <td>0.0</td>\n",
              "      <td>0.0</td>\n",
              "      <td>0.0</td>\n",
              "      <td>0.0</td>\n",
              "      <td>0.0</td>\n",
              "      <td>0.0</td>\n",
              "      <td>0.0</td>\n",
              "      <td>0.0</td>\n",
              "      <td>0.0</td>\n",
              "      <td>0.0</td>\n",
              "      <td>0.0</td>\n",
              "      <td>0.0</td>\n",
              "      <td>0.0</td>\n",
              "      <td>0.0</td>\n",
              "      <td>0.0</td>\n",
              "      <td>0.0</td>\n",
              "      <td>0.0</td>\n",
              "      <td>0.0</td>\n",
              "      <td>0.0</td>\n",
              "      <td>0.0</td>\n",
              "      <td>0.0</td>\n",
              "      <td>1.0</td>\n",
              "      <td>0.0</td>\n",
              "      <td>0.0</td>\n",
              "      <td>0.0</td>\n",
              "      <td>0.0</td>\n",
              "      <td>0.0</td>\n",
              "      <td>0.0</td>\n",
              "      <td>0.0</td>\n",
              "      <td>0.0</td>\n",
              "      <td>0.0</td>\n",
              "      <td>0.0</td>\n",
              "      <td>0.0</td>\n",
              "      <td>0.0</td>\n",
              "      <td>0.0</td>\n",
              "      <td>0.0</td>\n",
              "      <td>0.0</td>\n",
              "      <td>0.0</td>\n",
              "      <td>0.0</td>\n",
              "      <td>0.0</td>\n",
              "      <td>0.0</td>\n",
              "      <td>0.0</td>\n",
              "      <td>0.0</td>\n",
              "      <td>0.0</td>\n",
              "      <td>1.0</td>\n",
              "      <td>0.0</td>\n",
              "      <td>0.0</td>\n",
              "      <td>0.0</td>\n",
              "      <td>0.0</td>\n",
              "      <td>1.0</td>\n",
              "      <td>0.0</td>\n",
              "      <td>0.0</td>\n",
              "      <td>0.0</td>\n",
              "      <td>0.0</td>\n",
              "      <td>0.0</td>\n",
              "      <td>1.0</td>\n",
              "    </tr>\n",
              "  </tbody>\n",
              "</table>\n",
              "</div>"
            ],
            "text/plain": [
              "   Suprafata     Pret  Nr_Camere_1  Nr_Camere_2  ...  Scor_2  Scor_3  Scor_4  Scor_5\n",
              "0     108.00  83000.0          0.0          0.0  ...     0.0     0.0     0.0     1.0\n",
              "1      41.00  39900.0          1.0          0.0  ...     0.0     0.0     0.0     0.0\n",
              "2      63.52  84900.0          0.0          0.0  ...     0.0     1.0     0.0     0.0\n",
              "3      33.00  45500.0          1.0          0.0  ...     0.0     0.0     0.0     0.0\n",
              "4      62.00  54900.0          0.0          1.0  ...     0.0     0.0     0.0     1.0\n",
              "\n",
              "[5 rows x 60 columns]"
            ]
          },
          "metadata": {
            "tags": []
          },
          "execution_count": 141
        }
      ]
    },
    {
      "cell_type": "markdown",
      "metadata": {
        "colab_type": "text",
        "id": "ChR5N5LCw8o9"
      },
      "source": [
        "### **Normalizing the data**\n",
        "\n",
        "---\n",
        "\n",
        "After solving the categorical values problem, we're left with dealing with the values in *`Suprafata`* and *`Pret`* columns.  "
      ]
    },
    {
      "cell_type": "markdown",
      "metadata": {
        "colab_type": "text",
        "id": "M8qhN_9jw8o-"
      },
      "source": [
        "Before performing any normalization operation, we must split the housing dataset into *training*, *testing* and *validation* sets."
      ]
    },
    {
      "cell_type": "markdown",
      "metadata": {
        "colab_type": "text",
        "id": "7Apnx5p8w8o-"
      },
      "source": [
        "#### **Train - Test - Validation Split**\n",
        "\n",
        "---\n",
        "\n",
        "\n",
        "The ***train set*** will contain 70% of the data, the ***test set*** 15% and the ***validation set*** the remaining 15%.\n",
        "\n",
        "The *`Pret`* column represents the data to predict, so it is extracted as *label* data."
      ]
    },
    {
      "cell_type": "code",
      "metadata": {
        "colab_type": "code",
        "id": "zfkqZOiAw8o-",
        "colab": {}
      },
      "source": [
        "train_data = encoded_housing_data.sample(frac=0.7, random_state=34)\n",
        "train_labels = train_data['Pret']\n",
        "\n",
        "test_val_data = encoded_housing_data.drop(train_data.index)\n",
        "\n",
        "val_data = test_val_data.sample(frac=0.5, random_state=34)\n",
        "val_labels = val_data['Pret']\n",
        "\n",
        "test_data = test_val_data.drop(val_data.index)\n",
        "test_labels = test_data['Pret']\n",
        "\n",
        "train_data = train_data.drop(columns=['Pret'])\n",
        "val_data = val_data.drop(columns=['Pret'])\n",
        "test_data = test_data.drop(columns=['Pret'])"
      ],
      "execution_count": 0,
      "outputs": []
    },
    {
      "cell_type": "markdown",
      "metadata": {
        "colab_type": "text",
        "id": "fQSLZcd1w8pA"
      },
      "source": [
        "Some observations about the distribution of the data:\n",
        "\n",
        "*   The *`Suprafata`* takes values in quite a wide range. \n",
        "  \n",
        "  \n",
        "\n",
        "\n",
        "    \n"
      ]
    },
    {
      "cell_type": "code",
      "metadata": {
        "colab_type": "code",
        "id": "ZXjKDZBgw8pA",
        "colab": {}
      },
      "source": [
        "area_feature_raw = train_data['Suprafata'].copy()"
      ],
      "execution_count": 0,
      "outputs": []
    },
    {
      "cell_type": "code",
      "metadata": {
        "colab_type": "code",
        "outputId": "74f6bf2f-55fa-4d33-9bbd-8d970b16310e",
        "id": "xMgMFccOw8pC",
        "colab": {
          "base_uri": "https://localhost:8080/",
          "height": 167
        }
      },
      "source": [
        "raw_data = pd.DataFrame({'': ['MIN', 'MAX', 'MEAN', 'STD_DEV'], \n",
        "                         'Suprafata': [area_feature_raw.min(), area_feature_raw.max(), area_feature_raw.mean(), area_feature_raw.std()]})\n",
        "raw_data"
      ],
      "execution_count": 144,
      "outputs": [
        {
          "output_type": "execute_result",
          "data": {
            "text/html": [
              "<div>\n",
              "<style scoped>\n",
              "    .dataframe tbody tr th:only-of-type {\n",
              "        vertical-align: middle;\n",
              "    }\n",
              "\n",
              "    .dataframe tbody tr th {\n",
              "        vertical-align: top;\n",
              "    }\n",
              "\n",
              "    .dataframe thead th {\n",
              "        text-align: right;\n",
              "    }\n",
              "</style>\n",
              "<table border=\"1\" class=\"dataframe\">\n",
              "  <thead>\n",
              "    <tr style=\"text-align: right;\">\n",
              "      <th></th>\n",
              "      <th></th>\n",
              "      <th>Suprafata</th>\n",
              "    </tr>\n",
              "  </thead>\n",
              "  <tbody>\n",
              "    <tr>\n",
              "      <th>0</th>\n",
              "      <td>MIN</td>\n",
              "      <td>16.000000</td>\n",
              "    </tr>\n",
              "    <tr>\n",
              "      <th>1</th>\n",
              "      <td>MAX</td>\n",
              "      <td>350.000000</td>\n",
              "    </tr>\n",
              "    <tr>\n",
              "      <th>2</th>\n",
              "      <td>MEAN</td>\n",
              "      <td>70.080692</td>\n",
              "    </tr>\n",
              "    <tr>\n",
              "      <th>3</th>\n",
              "      <td>STD_DEV</td>\n",
              "      <td>29.355722</td>\n",
              "    </tr>\n",
              "  </tbody>\n",
              "</table>\n",
              "</div>"
            ],
            "text/plain": [
              "             Suprafata\n",
              "0      MIN   16.000000\n",
              "1      MAX  350.000000\n",
              "2     MEAN   70.080692\n",
              "3  STD_DEV   29.355722"
            ]
          },
          "metadata": {
            "tags": []
          },
          "execution_count": 144
        }
      ]
    },
    {
      "cell_type": "code",
      "metadata": {
        "colab_type": "code",
        "outputId": "9872ede6-b5ce-4653-b6fe-03b0d19b0970",
        "id": "udQ5-difw8pE",
        "colab": {
          "base_uri": "https://localhost:8080/",
          "height": 356
        }
      },
      "source": [
        "fig, ax = plt.subplots(1, 1, figsize=(15, 5), gridspec_kw={'wspace': .2})\n",
        "\n",
        "comp_area_distr = ax.hist(area_feature_raw, bins=100, color=plot_colors.light_2)\n",
        "\n",
        "ax.spines[\"top\"].set_visible(False)\n",
        "ax.spines[\"right\"].set_visible(False)\n",
        "\n",
        "ax.set_title('Distribution of data in $\\it{Suprafata}$\\n', fontproperties=title_font)\n",
        "\n",
        "plt.box('on')"
      ],
      "execution_count": 145,
      "outputs": [
        {
          "output_type": "display_data",
          "data": {
            "image/png": "[encoded data removed]",
            "text/plain": [
              "<Figure size 1080x360 with 1 Axes>"
            ]
          },
          "metadata": {
            "tags": [],
            "needs_background": "light"
          }
        }
      ]
    },
    {
      "cell_type": "markdown",
      "metadata": {
        "colab_type": "text",
        "id": "TIHzmSwfw8pH"
      },
      "source": [
        "#### **Zero-mean Centering**\n",
        "\n",
        "---\n",
        "\n",
        "Normalizing data using the ***StandardScaler*** from *sklearn* library.  \n",
        "The scaler is fitted only on training data and then applied on both training and testing data."
      ]
    },
    {
      "cell_type": "code",
      "metadata": {
        "colab_type": "code",
        "id": "0plMeYfyw8pI",
        "colab": {}
      },
      "source": [
        "scaler = StandardScaler().fit(train_data[['Suprafata']])\n",
        "train_data[['Suprafata']] = scaler.transform(train_data[['Suprafata']])\n",
        "val_data[['Suprafata']] = scaler.transform(val_data[['Suprafata']])\n",
        "test_data[['Suprafata']] = scaler.transform(test_data[['Suprafata']])"
      ],
      "execution_count": 0,
      "outputs": []
    },
    {
      "cell_type": "markdown",
      "metadata": {
        "colab_type": "text",
        "id": "B4Yfd9FLw8pJ"
      },
      "source": [
        "Some observations after normalization:  \n",
        "\n",
        "* The distributions of data is now zero-mean centered\n",
        "* The values are now in a narrower range\n",
        "\n"
      ]
    },
    {
      "cell_type": "code",
      "metadata": {
        "colab_type": "code",
        "outputId": "4920d135-dfb8-4efe-9c04-5ea26980ae85",
        "id": "Mx4-b6Oxw8pK",
        "colab": {
          "base_uri": "https://localhost:8080/",
          "height": 167
        }
      },
      "source": [
        "area_feature_norm = train_data['Suprafata'].copy()\n",
        "\n",
        "normalized_data = pd.DataFrame({'': ['MIN', 'MAX', 'MEAN', 'STD_DEV'], \n",
        "                         'Suprafata': [area_feature_norm.min(), area_feature_norm.max(), area_feature_norm.mean(), area_feature_norm.std()]})\n",
        "normalized_data"
      ],
      "execution_count": 147,
      "outputs": [
        {
          "output_type": "execute_result",
          "data": {
            "text/html": [
              "<div>\n",
              "<style scoped>\n",
              "    .dataframe tbody tr th:only-of-type {\n",
              "        vertical-align: middle;\n",
              "    }\n",
              "\n",
              "    .dataframe tbody tr th {\n",
              "        vertical-align: top;\n",
              "    }\n",
              "\n",
              "    .dataframe thead th {\n",
              "        text-align: right;\n",
              "    }\n",
              "</style>\n",
              "<table border=\"1\" class=\"dataframe\">\n",
              "  <thead>\n",
              "    <tr style=\"text-align: right;\">\n",
              "      <th></th>\n",
              "      <th></th>\n",
              "      <th>Suprafata</th>\n",
              "    </tr>\n",
              "  </thead>\n",
              "  <tbody>\n",
              "    <tr>\n",
              "      <th>0</th>\n",
              "      <td>MIN</td>\n",
              "      <td>-1.842627e+00</td>\n",
              "    </tr>\n",
              "    <tr>\n",
              "      <th>1</th>\n",
              "      <td>MAX</td>\n",
              "      <td>9.537357e+00</td>\n",
              "    </tr>\n",
              "    <tr>\n",
              "      <th>2</th>\n",
              "      <td>MEAN</td>\n",
              "      <td>1.943115e-16</td>\n",
              "    </tr>\n",
              "    <tr>\n",
              "      <th>3</th>\n",
              "      <td>STD_DEV</td>\n",
              "      <td>1.000202e+00</td>\n",
              "    </tr>\n",
              "  </tbody>\n",
              "</table>\n",
              "</div>"
            ],
            "text/plain": [
              "               Suprafata\n",
              "0      MIN -1.842627e+00\n",
              "1      MAX  9.537357e+00\n",
              "2     MEAN  1.943115e-16\n",
              "3  STD_DEV  1.000202e+00"
            ]
          },
          "metadata": {
            "tags": []
          },
          "execution_count": 147
        }
      ]
    },
    {
      "cell_type": "code",
      "metadata": {
        "colab_type": "code",
        "outputId": "f6ee8797-c83b-48ea-91de-7775661516f9",
        "id": "SYARPdpow8pM",
        "colab": {
          "base_uri": "https://localhost:8080/",
          "height": 356
        }
      },
      "source": [
        "fig, ax = plt.subplots(1, 1, figsize=(10, 5), gridspec_kw={'wspace': .25})\n",
        "\n",
        "area_distr = ax.hist(area_feature_norm, bins=100, color=plot_colors.light_2)\n",
        "\n",
        "ax.spines[\"top\"].set_visible(False)\n",
        "ax.spines[\"right\"].set_visible(False)\n",
        "\n",
        "ax.set_title('Distribution of normalized data in $\\it{Suprafata}$\\n', \n",
        "                fontproperties=title_font)\n",
        "\n",
        "plt.box('on')"
      ],
      "execution_count": 148,
      "outputs": [
        {
          "output_type": "display_data",
          "data": {
            "image/png": "[encoded data removed]",
            "text/plain": [
              "<Figure size 720x360 with 1 Axes>"
            ]
          },
          "metadata": {
            "tags": [],
            "needs_background": "light"
          }
        }
      ]
    },
    {
      "cell_type": "markdown",
      "metadata": {
        "colab_type": "text",
        "id": "oEhT7Rtbw8pO"
      },
      "source": [
        "#### **Preparing the Data**"
      ]
    },
    {
      "cell_type": "markdown",
      "metadata": {
        "colab_type": "text",
        "id": "SDsRrrbuw8pO"
      },
      "source": [
        "Converting the data from ***pandas.DataFrame*** format to ***pytorch.Tensor***. "
      ]
    },
    {
      "cell_type": "code",
      "metadata": {
        "colab_type": "code",
        "id": "h9XgflZJw8pO",
        "colab": {}
      },
      "source": [
        "x_train = torch.from_numpy(train_data.values)\n",
        "x_val = torch.from_numpy(val_data.values)\n",
        "x_test = torch.from_numpy(test_data.values)"
      ],
      "execution_count": 0,
      "outputs": []
    },
    {
      "cell_type": "markdown",
      "metadata": {
        "id": "Sgdl2wJ-Al1S",
        "colab_type": "text"
      },
      "source": [
        "After an attempt to train with the **`Pret`** values not normalize, the gradients exploded, even after trying to change the network depth and the learning rate.  \n",
        "  \n",
        "Hence, I decided to normalize the **`Pret`** values."
      ]
    },
    {
      "cell_type": "code",
      "metadata": {
        "colab_type": "code",
        "id": "wSJxgUOgQshc",
        "colab": {}
      },
      "source": [
        "price_scaler = StandardScaler().fit(train_labels.values.reshape(-1, 1))\n",
        "\n",
        "y_train = price_scaler.transform(train_labels.values.reshape(-1, 1))\n",
        "y_val = price_scaler.transform(val_labels.values.reshape(-1, 1))\n",
        "y_test = price_scaler.transform(test_labels.values.reshape(-1, 1))\n",
        "\n",
        "y_train = torch.from_numpy(y_train)\n",
        "y_val = torch.from_numpy(y_val)\n",
        "y_test = torch.from_numpy(y_test)"
      ],
      "execution_count": 0,
      "outputs": []
    },
    {
      "cell_type": "code",
      "metadata": {
        "id": "LcSRHo2kGwAs",
        "colab_type": "code",
        "outputId": "2cb3a642-fabc-433f-fd1c-94c6ab07ec52",
        "colab": {
          "base_uri": "https://localhost:8080/",
          "height": 204
        }
      },
      "source": [
        "print('TRAIN SET ')\n",
        "print('     Data : %s' % list(x_train.shape))\n",
        "print('   Target : %s' % list(y_train.shape))\n",
        "\n",
        "print('\\nVALIDATION SET ')\n",
        "print('     Data : %s' % list(x_val.shape))\n",
        "print('   Target : %s' % list(y_val.shape))\n",
        "\n",
        "print('\\nTEST SET ')\n",
        "print('     Data : %s' % list(x_test.shape))\n",
        "print('   Target : %s' % list(y_test.shape))"
      ],
      "execution_count": 151,
      "outputs": [
        {
          "output_type": "stream",
          "text": [
            "TRAIN SET \n",
            "     Data : [2470, 59]\n",
            "   Target : [2470, 1]\n",
            "\n",
            "VALIDATION SET \n",
            "     Data : [530, 59]\n",
            "   Target : [530, 1]\n",
            "\n",
            "TEST SET \n",
            "     Data : [529, 59]\n",
            "   Target : [529, 1]\n"
          ],
          "name": "stdout"
        }
      ]
    },
    {
      "cell_type": "code",
      "metadata": {
        "colab_type": "code",
        "id": "OqKHPSjPw8pQ",
        "colab": {}
      },
      "source": [
        "class HousingDataset(Dataset):\n",
        "  def __init__(self, x_train: torch.Tensor, y_train: torch.Tensor):\n",
        "    self._x = x_train\n",
        "    self._y = y_train\n",
        "\n",
        "  def __len__(self):\n",
        "    return len(self._x)\n",
        "\n",
        "  def __getitem__(self, idx):\n",
        "    return self._x[idx], self._y[idx]"
      ],
      "execution_count": 0,
      "outputs": []
    },
    {
      "cell_type": "code",
      "metadata": {
        "colab_type": "code",
        "id": "P6riFDj5w8pS",
        "colab": {}
      },
      "source": [
        "batch_size = 32\n",
        "\n",
        "housing_dataset = HousingDataset(x_train, y_train)\n",
        "housing_loader = DataLoader(housing_dataset, batch_size=batch_size, shuffle=True)"
      ],
      "execution_count": 0,
      "outputs": []
    },
    {
      "cell_type": "markdown",
      "metadata": {
        "colab_type": "text",
        "id": "DN4szFi0zxdU"
      },
      "source": [
        "#### **Defining the model**\n",
        "\n",
        "---\n",
        "\n",
        "\n",
        "\n",
        "*   **Neural network architecture:**  \n",
        "&nbsp; &nbsp; Two hidden layers&nbsp; &nbsp; |&nbsp; &nbsp; Linear transformations&nbsp; &nbsp; |&nbsp; &nbsp; Sigmoid $\\small{\\text{(gave better results than ReLU)}}$\n",
        "  \n",
        "*   **Loss function:**  \n",
        "&nbsp; &nbsp; MSE Loss \n",
        "  \n",
        "*   **Optimizer:**  \n",
        "&nbsp; &nbsp; SGD&nbsp; &nbsp; \n",
        "  \n",
        "*   **Regularization:**  \n",
        "&nbsp; &nbsp; Early Stopping &nbsp; &nbsp; |&nbsp; &nbsp; Weight decay"
      ]
    },
    {
      "cell_type": "code",
      "metadata": {
        "colab_type": "code",
        "id": "0tdv4tuEzxdZ",
        "colab": {}
      },
      "source": [
        "class RegressionNN2(nn.Module):\n",
        "  def __init__(self, in_size, hid1_size, hid2_size, out_size):\n",
        "    super().__init__()\n",
        "    self._fc1 = nn.Linear(in_size, hid1_size)\n",
        "    self._fc2 = nn.Linear(hid1_size, hid2_size)\n",
        "    self._fc3 = nn.Linear(hid2_size, out_size)\n",
        "        \n",
        "  def forward(self, x):\n",
        "    x = self._fc1(x)\n",
        "    x = torch.sigmoid(x)\n",
        "    x = self._fc2(x)\n",
        "    x = torch.sigmoid(x)\n",
        "    x = self._fc3(x)\n",
        "\n",
        "    return x"
      ],
      "execution_count": 0,
      "outputs": []
    },
    {
      "cell_type": "code",
      "metadata": {
        "colab_type": "code",
        "id": "OmlhoNp5zxdb",
        "colab": {}
      },
      "source": [
        "input_size = 59\n",
        "hidden1_size = 200\n",
        "hidden2_size = 50\n",
        "output_size = 1"
      ],
      "execution_count": 0,
      "outputs": []
    },
    {
      "cell_type": "code",
      "metadata": {
        "colab_type": "code",
        "id": "L4NESHXr8bgS",
        "colab": {}
      },
      "source": [
        "model3 = RegressionNN2(input_size, hidden1_size, hidden2_size, output_size)\n",
        "\n",
        "learning_rate = 0.001\n",
        "weight_reg = 0.01\n",
        "optimizer = torch.optim.SGD(model3.parameters(), lr=learning_rate,\n",
        "                            weight_decay=weight_reg)\n",
        "\n",
        "criterion = nn.MSELoss()"
      ],
      "execution_count": 0,
      "outputs": []
    },
    {
      "cell_type": "code",
      "metadata": {
        "colab_type": "code",
        "id": "D7IPflhCzxdd",
        "colab": {}
      },
      "source": [
        "patience = 20\n",
        "\n",
        "# Every time a new minima is found, we save the time, the loss value and the \n",
        "# model parameters\n",
        "checkpoint_epoch = 0\n",
        "checkpoint_losses = []\n",
        "checkpoint_path = '/content/checkpointR2.pt'\n",
        "\n",
        "es_epochs = []\n",
        "es_losses = []\n",
        "es_models = []\n",
        "\n",
        "best_loss = np.inf\n",
        "train_loss = []\n",
        "validation_loss = []\n",
        "log_interval = 25"
      ],
      "execution_count": 0,
      "outputs": []
    },
    {
      "cell_type": "code",
      "metadata": {
        "colab_type": "code",
        "outputId": "0b8b5b65-110d-48a7-9cd8-1d33a1a137d6",
        "id": "vjrGKIz5zxdh",
        "colab": {
          "base_uri": "https://localhost:8080/",
          "height": 1000
        }
      },
      "source": [
        "# We take a counter 'wait' that will monitor the number of epochs trained after\n",
        "# an increase in the validation loss was found\n",
        "still_training = True\n",
        "wait = 0\n",
        "\n",
        "while still_training:\n",
        "  iter_loss = []\n",
        "  for x, y_true in housing_loader:\n",
        "    x = x.float()\n",
        "    y_pred = model3(x)  \n",
        "    y_true = y_true.reshape_as(y_pred)\n",
        "    batch_loss = criterion(y_pred.double(), y_true.double())\n",
        "\n",
        "    optimizer.zero_grad()\n",
        "    batch_loss.backward()\n",
        "    optimizer.step()\n",
        "\n",
        "    iter_loss.append(batch_loss.detach().numpy())\n",
        "\n",
        "  # At the end of each epoch, we compute the validation loss without \n",
        "  # storing it's gradients\n",
        "  model3.eval()\n",
        "  with torch.no_grad():\n",
        "    val_pred = model3(x_val.float())\n",
        "    y_val = y_val.reshape_as(val_pred)\n",
        "    val_loss = criterion(val_pred.double(), y_val.double())\n",
        "\n",
        "  # We compute the generalization loss an compare it to the admissible bound\n",
        "  es_measure = np.mean(val_loss.detach().numpy()) / best_loss - 1\n",
        "  if es_measure <= 0.0002:\n",
        "    if wait:      \n",
        "      checkpoint_epoch += wait - 1\n",
        "      wait = 0\n",
        "\n",
        "    # The minimum loss found replaces the old one and the current model is saved\n",
        "    best_loss = np.mean(val_loss.detach().numpy())\n",
        "    train_loss = train_loss[:checkpoint_epoch]\n",
        "    validation_loss = validation_loss[:checkpoint_epoch]\n",
        "\n",
        "    checkpoint_epoch += 1\n",
        "    checkpoint_losses = [np.mean(iter_loss), np.mean(val_loss.detach().numpy())]\n",
        "    torch.save(model3.state_dict(), checkpoint_path)\n",
        "  else:    \n",
        "    # The loss increased\n",
        "\n",
        "    if wait == patience:      \n",
        "      # If we reached the maximum number of extra epochs, the training is stopped\n",
        "      # The best model is restored\n",
        "      still_training = False\n",
        "      model3.load_state_dict(torch.load(checkpoint_path))\n",
        "      es_epochs.append(checkpoint_epoch)\n",
        "      es_losses.append(checkpoint_losses)\n",
        "      es_models.append(model3)\n",
        "\n",
        "      train_loss = train_loss[:checkpoint_epoch]\n",
        "      validation_loss = validation_loss[:checkpoint_epoch]\n",
        "\n",
        "      print('Validation loss not improved for %d epochs since last checkpoint : %.6f ---> %.6f' %\n",
        "            (patience, best_loss, np.mean(val_loss.detach().numpy())))\n",
        "      print('Restoring last saved model : epoch %4d' % checkpoint_epoch)\n",
        "    else:    \n",
        "      # If we did not reached the maximum number of extra epochs, the training \n",
        "      # continues without saving the model\n",
        "      wait += 1\n",
        "  \n",
        "  train_loss.append(np.mean(iter_loss))\n",
        "  validation_loss.append(np.mean(val_loss.detach().numpy()))\n",
        "\n",
        "  # Displaying the model's state every 50 epochs\n",
        "  if (checkpoint_epoch+1+wait) % log_interval == 0:\n",
        "      print('EPOCH %4d :' % (checkpoint_epoch+1+wait))\n",
        "      print('   train_loss = %.6f' % train_loss[-1])\n",
        "      print('   validation_loss = %.6f' % np.mean(val_loss.detach().numpy()))"
      ],
      "execution_count": 158,
      "outputs": [
        {
          "output_type": "stream",
          "text": [
            "EPOCH   25 :\n",
            "   train_loss = 0.982442\n",
            "   validation_loss = 0.968259\n",
            "EPOCH   50 :\n",
            "   train_loss = 0.968028\n",
            "   validation_loss = 0.950994\n",
            "EPOCH   75 :\n",
            "   train_loss = 0.944402\n",
            "   validation_loss = 0.921857\n",
            "EPOCH   75 :\n",
            "   train_loss = 0.928954\n",
            "   validation_loss = 0.918452\n",
            "EPOCH  100 :\n",
            "   train_loss = 0.880632\n",
            "   validation_loss = 0.871773\n",
            "EPOCH  125 :\n",
            "   train_loss = 0.795412\n",
            "   validation_loss = 0.785067\n",
            "EPOCH  150 :\n",
            "   train_loss = 0.658845\n",
            "   validation_loss = 0.635148\n",
            "EPOCH  175 :\n",
            "   train_loss = 0.451798\n",
            "   validation_loss = 0.439082\n",
            "EPOCH  200 :\n",
            "   train_loss = 0.320046\n",
            "   validation_loss = 0.309552\n",
            "EPOCH  225 :\n",
            "   train_loss = 0.277311\n",
            "   validation_loss = 0.265116\n",
            "EPOCH  225 :\n",
            "   train_loss = 0.278550\n",
            "   validation_loss = 0.263838\n",
            "EPOCH  250 :\n",
            "   train_loss = 0.261549\n",
            "   validation_loss = 0.247182\n",
            "EPOCH  275 :\n",
            "   train_loss = 0.255070\n",
            "   validation_loss = 0.239349\n",
            "EPOCH  275 :\n",
            "   train_loss = 0.255088\n",
            "   validation_loss = 0.238959\n",
            "EPOCH  300 :\n",
            "   train_loss = 0.248924\n",
            "   validation_loss = 0.233398\n",
            "EPOCH  325 :\n",
            "   train_loss = 0.244258\n",
            "   validation_loss = 0.228962\n",
            "EPOCH  350 :\n",
            "   train_loss = 0.241613\n",
            "   validation_loss = 0.227127\n",
            "EPOCH  350 :\n",
            "   train_loss = 0.243551\n",
            "   validation_loss = 0.225191\n",
            "EPOCH  375 :\n",
            "   train_loss = 0.241832\n",
            "   validation_loss = 0.224503\n",
            "EPOCH  375 :\n",
            "   train_loss = 0.241871\n",
            "   validation_loss = 0.223439\n",
            "EPOCH  400 :\n",
            "   train_loss = 0.237141\n",
            "   validation_loss = 0.223075\n",
            "EPOCH  425 :\n",
            "   train_loss = 0.235599\n",
            "   validation_loss = 0.220275\n",
            "EPOCH  450 :\n",
            "   train_loss = 0.235098\n",
            "   validation_loss = 0.221571\n",
            "EPOCH  475 :\n",
            "   train_loss = 0.238535\n",
            "   validation_loss = 0.218033\n",
            "EPOCH  500 :\n",
            "   train_loss = 0.233041\n",
            "   validation_loss = 0.217486\n",
            "EPOCH  525 :\n",
            "   train_loss = 0.233048\n",
            "   validation_loss = 0.216588\n",
            "EPOCH  550 :\n",
            "   train_loss = 0.234075\n",
            "   validation_loss = 0.218007\n",
            "EPOCH  575 :\n",
            "   train_loss = 0.232879\n",
            "   validation_loss = 0.216210\n",
            "EPOCH  600 :\n",
            "   train_loss = 0.229354\n",
            "   validation_loss = 0.215946\n",
            "EPOCH  625 :\n",
            "   train_loss = 0.235120\n",
            "   validation_loss = 0.214133\n",
            "EPOCH  650 :\n",
            "   train_loss = 0.228970\n",
            "   validation_loss = 0.213799\n",
            "EPOCH  675 :\n",
            "   train_loss = 0.228363\n",
            "   validation_loss = 0.214236\n",
            "EPOCH  700 :\n",
            "   train_loss = 0.228843\n",
            "   validation_loss = 0.213054\n",
            "EPOCH  725 :\n",
            "   train_loss = 0.228449\n",
            "   validation_loss = 0.214214\n",
            "Validation loss not improved for 20 epochs since last checkpoint : 0.212844 ---> 0.214565\n",
            "Restoring last saved model : epoch  705\n"
          ],
          "name": "stdout"
        }
      ]
    },
    {
      "cell_type": "markdown",
      "metadata": {
        "colab_type": "text",
        "id": "p2E-wYz9zxdl"
      },
      "source": [
        "#### **Evaluation of the model**"
      ]
    },
    {
      "cell_type": "markdown",
      "metadata": {
        "colab_type": "text",
        "id": "hiunxk_5zxdl"
      },
      "source": [
        "**Stopping time statistics**"
      ]
    },
    {
      "cell_type": "code",
      "metadata": {
        "colab_type": "code",
        "outputId": "068e0d9c-c9cf-4976-b6ac-cf22b6ffeb5a",
        "id": "pWir7CTZzxdm",
        "colab": {
          "base_uri": "https://localhost:8080/",
          "height": 85
        }
      },
      "source": [
        "# Computing the test set loss\n",
        "model3.eval()\n",
        "with torch.no_grad():\n",
        "  test_pred = model3(x_test.float())\n",
        "  y_test = y_test.reshape_as(test_pred)\n",
        "  test_loss = criterion(test_pred.double(), y_test.double())\n",
        "  test_loss = np.mean(test_loss.detach().numpy())\n",
        "\n",
        "print('TRAINING STOPPED AFTER %4d EPOCHS' % es_epochs[0])\n",
        "print('%18s : %.5f' % ('Train Loss', es_losses[0][0]))\n",
        "print('%18s : %.5f' % ('Validation Loss', es_losses[0][1]))\n",
        "print('%18s : %.5f' % ('Test Loss', test_loss))"
      ],
      "execution_count": 159,
      "outputs": [
        {
          "output_type": "stream",
          "text": [
            "TRAINING STOPPED AFTER  705 EPOCHS\n",
            "        Train Loss : 0.23003\n",
            "   Validation Loss : 0.21284\n",
            "         Test Loss : 0.23532\n"
          ],
          "name": "stdout"
        }
      ]
    },
    {
      "cell_type": "markdown",
      "metadata": {
        "colab_type": "text",
        "id": "WHVzOkIZzxeM"
      },
      "source": [
        "**Visulization of loss improvement**"
      ]
    },
    {
      "cell_type": "code",
      "metadata": {
        "colab_type": "code",
        "outputId": "6ba79868-8432-4b54-e77e-cdebfd521170",
        "id": "af_VQ075zxeN",
        "colab": {
          "base_uri": "https://localhost:8080/",
          "height": 311
        }
      },
      "source": [
        "fig = plt.figure(figsize=(7, 4))\n",
        "ax = plt.axes()\n",
        "\n",
        "val_plot = ax.plot(validation_loss, color=plot_colors.dark_2, lw=1)\n",
        "train_plot = ax.plot(train_loss, color=plot_colors.light_2, lw=1)\n",
        "\n",
        "ax.spines[\"top\"].set_visible(False)\n",
        "ax.spines[\"right\"].set_visible(False)\n",
        "\n",
        "ax.set_xticklabels([str(int(tick)) for tick in ax.get_xticks()],\n",
        "                   fontproperties=labels_font)\n",
        "ax.set_yticklabels([str('{:1.1f}'.format(tick)) for tick in ax.get_yticks()],\n",
        "                   fontproperties=labels_font)\n",
        "ax.tick_params(axis='both', color='black', length=3, width=.75)\n",
        "\n",
        "legend = ax.legend(['Validation Loss', 'Train loss'], prop=labels_font)\n",
        "title = ax.set_title('Evolution of model\\'s loss over ' + str(es_epochs[0]) +\\\n",
        "                     ' epochs\\n\\n', \n",
        "                     fontproperties=title_font, horizontalalignment='center')"
      ],
      "execution_count": 160,
      "outputs": [
        {
          "output_type": "display_data",
          "data": {
            "image/png": "[encoded data removed]",
            "text/plain": [
              "<Figure size 504x288 with 1 Axes>"
            ]
          },
          "metadata": {
            "tags": [],
            "needs_background": "light"
          }
        }
      ]
    },
    {
      "cell_type": "markdown",
      "metadata": {
        "id": "_doWAPoi6i5k",
        "colab_type": "text"
      },
      "source": [
        "\n",
        "\n",
        "---\n",
        "\n",
        "\n",
        "Scaling back the **`Pret`** values."
      ]
    },
    {
      "cell_type": "code",
      "metadata": {
        "id": "gOB-udtbffax",
        "colab_type": "code",
        "colab": {}
      },
      "source": [
        "y_test_back = price_scaler.inverse_transform(y_test)[:, 0]\n",
        "pred_test_back = price_scaler.inverse_transform(test_pred)[:, 0]"
      ],
      "execution_count": 0,
      "outputs": []
    },
    {
      "cell_type": "code",
      "metadata": {
        "id": "LvjVPDy9fxWq",
        "colab_type": "code",
        "outputId": "42d2d16d-c16e-4b31-f543-348520fc3b6d",
        "colab": {
          "base_uri": "https://localhost:8080/",
          "height": 51
        }
      },
      "source": [
        "print('     True Pret values range : %7.2f .. %7.2f' % \n",
        "      (np.min(np.array(y_test_back)), np.max(np.array(y_test_back))))\n",
        "print('Predicted Pret values range : %7.2f .. %7.2f' % \n",
        "      (np.min(np.array(pred_test_back)), np.max(np.array(pred_test_back))))"
      ],
      "execution_count": 166,
      "outputs": [
        {
          "output_type": "stream",
          "text": [
            "     True Pret values range : 19500.00 .. 450000.00\n",
            "Predicted Pret values range : 21270.46 .. 317375.03\n"
          ],
          "name": "stdout"
        }
      ]
    },
    {
      "cell_type": "markdown",
      "metadata": {
        "id": "9NHOxCWjDOGs",
        "colab_type": "text"
      },
      "source": [
        "\n",
        "\n",
        "---\n",
        "\n",
        "We notice that the range the predicted values are in is narrower than the one of the true values :  \n",
        "* The small true values were predicted larger   \n",
        "* The large true values were predicted smaller"
      ]
    },
    {
      "cell_type": "code",
      "metadata": {
        "id": "OF6gc3GGsbg8",
        "colab_type": "code",
        "outputId": "b831e68d-d4f8-45b1-8857-ed6412e41e22",
        "colab": {
          "base_uri": "https://localhost:8080/",
          "height": 456
        }
      },
      "source": [
        "fig = plt.figure(figsize=(10, 7))\n",
        "ax = plt.axes()\n",
        "\n",
        "sorted_idx = np.argsort(pred_test_back)\n",
        "pred_test_back = pred_test_back[sorted_idx]\n",
        "y_test_back = y_test_back[sorted_idx]\n",
        "x_coord = np.linspace(0, 1, len(y_test_back))\n",
        "\n",
        "for p in range(len(y_test_back)):\n",
        "  mark, = ax.plot(x_coord[p], y_test_back[p], color='white',\n",
        "                      marker='.',markersize=6, markerfacecolor=plot_colors.light_2, \n",
        "                      markeredgecolor=plot_colors.light_2)\n",
        "  \n",
        "fit, = ax.plot(x_coord, pred_test_back, color=plot_colors.dark_2, lw=2)\n",
        "\n",
        "ax.spines[\"top\"].set_visible(False)\n",
        "ax.spines[\"right\"].set_visible(False)\n",
        "ax.spines[\"left\"].set_visible(False)\n",
        "ax.spines[\"bottom\"].set_visible(False)\n",
        "\n",
        "ax.set_xlim([-.1, 1.1])\n",
        "ax.set_xticks([])\n",
        "ax.set_yticks([])\n",
        "ax.set_ylim([np.min(y_test_back)-10000, np.max(y_test_back)+10000])\n",
        "\n",
        "legend = ax.legend([fit, mark], ['Pedicted', 'True'], prop=labels_font)\n",
        "title = ax.set_title('Evaluating model\\'s performance on test set' + '\\n\\n', \n",
        "                     fontproperties=title_font, horizontalalignment='center')"
      ],
      "execution_count": 185,
      "outputs": [
        {
          "output_type": "display_data",
          "data": {
            "image/png": "[encoded data removed]",
            "text/plain": [
              "<Figure size 720x504 with 1 Axes>"
            ]
          },
          "metadata": {
            "tags": []
          }
        }
      ]
    }
  ]
}